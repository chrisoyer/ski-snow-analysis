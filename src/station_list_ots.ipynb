{
 "cells": [
  {
   "cell_type": "code",
   "execution_count": 5,
   "metadata": {},
   "outputs": [],
   "source": [
    "import numpy as np\n",
    "import pandas as pd\n",
    "import json\n",
    "import urllib.request"
   ]
  },
  {
   "cell_type": "code",
   "execution_count": 6,
   "metadata": {},
   "outputs": [],
   "source": [
    "pd.set_option('display.max_colwidth', 500)"
   ]
  },
  {
   "cell_type": "markdown",
   "metadata": {},
   "source": [
    "## Pull data"
   ]
  },
  {
   "cell_type": "code",
   "execution_count": 7,
   "metadata": {},
   "outputs": [],
   "source": [
    "limit = 500\n",
    "source_url = (r'https://skiapp.onthesnow.com/app/widgets/resortlist?region=us'\n",
    "              r'&regionids=429&language=en&pagetype=skireport&direction=-1'\n",
    "              fr'&order=stop&limit={limit}&offset=30&countrycode=USA'\n",
    "              r'&minvalue=-1&open=anystatus')"
   ]
  },
  {
   "cell_type": "code",
   "execution_count": 8,
   "metadata": {
    "scrolled": false
   },
   "outputs": [],
   "source": [
    "with urllib.request.urlopen(source_url) as url_file:\n",
    "    station_data = url_file.read().decode()\n",
    "    json_data = json.loads(station_data)"
   ]
  },
  {
   "cell_type": "markdown",
   "metadata": {},
   "source": [
    "## json -> dataframe"
   ]
  },
  {
   "cell_type": "code",
   "execution_count": 39,
   "metadata": {
    "scrolled": false
   },
   "outputs": [],
   "source": [
    "station_df = pd.DataFrame.from_dict(json_data['rows'])\n",
    "\n",
    "station_data_df = (station_df\n",
    "                   .join(pd.DataFrame.from_dict(\n",
    "                       station_df[['links']].to_dict()['links'])\n",
    "                         .T)\n",
    "                   .filter(items=['resort_name_short', 'weather'])\n",
    "                   )\n",
    "station_data_df.shape\n",
    "\n",
    "# if we get as many station as requested, there could be more we didn't get\n",
    "assert limit > station_data_df.shape[0]"
   ]
  },
  {
   "cell_type": "code",
   "execution_count": 40,
   "metadata": {},
   "outputs": [],
   "source": [
    "pages = {'snowfall': \"\", 'base': \"&q=top\"}\n",
    "\n",
    "def link_fixer(ser, year, page):\n",
    "    \"\"\"creates correct links from relative links for different page.\"\"\"\n",
    "    base = 'https://www.onthesnow.com'\n",
    "    tail = f'historical-snowfall.html?y={year}'\n",
    "    ser2 = ser.str.replace(pat=r'weather.html', repl=tail)\n",
    "    return base + ser2 + pages[page]"
   ]
  },
  {
   "cell_type": "code",
   "execution_count": 41,
   "metadata": {},
   "outputs": [],
   "source": [
    "def link_maker(df, yr, page):\n",
    "    \"\"\"makes df based on year given\"\"\"\n",
    "    return (df\n",
    "            .assign(snow_link=link_fixer(df.weather, yr, page))\n",
    "            .assign(year=yr)\n",
    "            .assign(page=page)\n",
    "            )\n",
    "years = range(2010, 2019)\n",
    "link_dfs = [link_maker(station_data_df, yr, page) \n",
    "            for yr in years for page in pages.keys()]"
   ]
  },
  {
   "cell_type": "code",
   "execution_count": 42,
   "metadata": {},
   "outputs": [
    {
     "data": {
      "text/html": [
       "<div>\n",
       "<style scoped>\n",
       "    .dataframe tbody tr th:only-of-type {\n",
       "        vertical-align: middle;\n",
       "    }\n",
       "\n",
       "    .dataframe tbody tr th {\n",
       "        vertical-align: top;\n",
       "    }\n",
       "\n",
       "    .dataframe thead th {\n",
       "        text-align: right;\n",
       "    }\n",
       "</style>\n",
       "<table border=\"1\" class=\"dataframe\">\n",
       "  <thead>\n",
       "    <tr style=\"text-align: right;\">\n",
       "      <th></th>\n",
       "      <th>resort_name_short</th>\n",
       "      <th>snow_link</th>\n",
       "      <th>year</th>\n",
       "      <th>page</th>\n",
       "    </tr>\n",
       "  </thead>\n",
       "  <tbody>\n",
       "    <tr>\n",
       "      <th>297</th>\n",
       "      <td>Whaleback</td>\n",
       "      <td>https://www.onthesnow.com/new-hampshire/whaleback-mountain/historical-snowfall.html?y=2018&amp;q=top</td>\n",
       "      <td>2018</td>\n",
       "      <td>base</td>\n",
       "    </tr>\n",
       "    <tr>\n",
       "      <th>298</th>\n",
       "      <td>Oak Mountain</td>\n",
       "      <td>https://www.onthesnow.com/new-york/oak-mountain/historical-snowfall.html?y=2018&amp;q=top</td>\n",
       "      <td>2018</td>\n",
       "      <td>base</td>\n",
       "    </tr>\n",
       "    <tr>\n",
       "      <th>299</th>\n",
       "      <td>Mount Pleasant of Edinboro</td>\n",
       "      <td>https://www.onthesnow.com/pennsylvania/mount-pleasant-of-edinboro/historical-snowfall.html?y=2018&amp;q=top</td>\n",
       "      <td>2018</td>\n",
       "      <td>base</td>\n",
       "    </tr>\n",
       "    <tr>\n",
       "      <th>300</th>\n",
       "      <td>Hunt Hollow</td>\n",
       "      <td>https://www.onthesnow.com/new-york/hunt-hollow-ski-club/historical-snowfall.html?y=2018&amp;q=top</td>\n",
       "      <td>2018</td>\n",
       "      <td>base</td>\n",
       "    </tr>\n",
       "    <tr>\n",
       "      <th>301</th>\n",
       "      <td>Powder Ridge Park</td>\n",
       "      <td>https://www.onthesnow.com/connecticut/powder-ridge-park/historical-snowfall.html?y=2018&amp;q=top</td>\n",
       "      <td>2018</td>\n",
       "      <td>base</td>\n",
       "    </tr>\n",
       "  </tbody>\n",
       "</table>\n",
       "</div>"
      ],
      "text/plain": [
       "              resort_name_short  \\\n",
       "297                   Whaleback   \n",
       "298                Oak Mountain   \n",
       "299  Mount Pleasant of Edinboro   \n",
       "300                 Hunt Hollow   \n",
       "301           Powder Ridge Park   \n",
       "\n",
       "                                                                                                   snow_link  \\\n",
       "297         https://www.onthesnow.com/new-hampshire/whaleback-mountain/historical-snowfall.html?y=2018&q=top   \n",
       "298                    https://www.onthesnow.com/new-york/oak-mountain/historical-snowfall.html?y=2018&q=top   \n",
       "299  https://www.onthesnow.com/pennsylvania/mount-pleasant-of-edinboro/historical-snowfall.html?y=2018&q=top   \n",
       "300            https://www.onthesnow.com/new-york/hunt-hollow-ski-club/historical-snowfall.html?y=2018&q=top   \n",
       "301            https://www.onthesnow.com/connecticut/powder-ridge-park/historical-snowfall.html?y=2018&q=top   \n",
       "\n",
       "     year  page  \n",
       "297  2018  base  \n",
       "298  2018  base  \n",
       "299  2018  base  \n",
       "300  2018  base  \n",
       "301  2018  base  "
      ]
     },
     "execution_count": 42,
     "metadata": {},
     "output_type": "execute_result"
    }
   ],
   "source": [
    "station_links_df = pd.concat(link_dfs).drop(columns='weather')\n",
    "station_links_df.tail()"
   ]
  },
  {
   "cell_type": "code",
   "execution_count": 44,
   "metadata": {},
   "outputs": [],
   "source": [
    "# save to disk\n",
    "(station_links_df\n",
    ".reset_index(drop=True)\n",
    ".to_feather('../data/ots_station_links.feather'))"
   ]
  },
  {
   "cell_type": "code",
   "execution_count": null,
   "metadata": {},
   "outputs": [],
   "source": []
  }
 ],
 "metadata": {
  "kernelspec": {
   "display_name": "ski_proj",
   "language": "python",
   "name": "ski_proj"
  },
  "language_info": {
   "codemirror_mode": {
    "name": "ipython",
    "version": 3
   },
   "file_extension": ".py",
   "mimetype": "text/x-python",
   "name": "python",
   "nbconvert_exporter": "python",
   "pygments_lexer": "ipython3",
   "version": "3.7.4"
  },
  "varInspector": {
   "cols": {
    "lenName": 16,
    "lenType": 16,
    "lenVar": 40
   },
   "kernels_config": {
    "python": {
     "delete_cmd_postfix": "",
     "delete_cmd_prefix": "del ",
     "library": "var_list.py",
     "varRefreshCmd": "print(var_dic_list())"
    },
    "r": {
     "delete_cmd_postfix": ") ",
     "delete_cmd_prefix": "rm(",
     "library": "var_list.r",
     "varRefreshCmd": "cat(var_dic_list()) "
    }
   },
   "types_to_exclude": [
    "module",
    "function",
    "builtin_function_or_method",
    "instance",
    "_Feature"
   ],
   "window_display": false
  }
 },
 "nbformat": 4,
 "nbformat_minor": 4
}
