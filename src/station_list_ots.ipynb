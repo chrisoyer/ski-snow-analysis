{
 "cells": [
  {
   "cell_type": "code",
   "execution_count": 1,
   "metadata": {},
   "outputs": [],
   "source": [
    "import numpy as np\n",
    "import pandas as pd\n",
    "import json\n",
    "import urllib.request"
   ]
  },
  {
   "cell_type": "code",
   "execution_count": 2,
   "metadata": {},
   "outputs": [],
   "source": [
    "pd.set_option('display.max_colwidth', 500)"
   ]
  },
  {
   "cell_type": "markdown",
   "metadata": {},
   "source": [
    "## Pull data"
   ]
  },
  {
   "cell_type": "code",
   "execution_count": 3,
   "metadata": {},
   "outputs": [],
   "source": [
    "limit = 500\n",
    "source_url = (r'https://skiapp.onthesnow.com/app/widgets/resortlist?region=us'\n",
    "              r'&regionids=429&language=en&pagetype=skireport&direction=-1'\n",
    "              fr'&order=stop&limit={limit}&offset=30&countrycode=USA'\n",
    "              r'&minvalue=-1&open=anystatus')"
   ]
  },
  {
   "cell_type": "code",
   "execution_count": 4,
   "metadata": {
    "scrolled": false
   },
   "outputs": [],
   "source": [
    "with urllib.request.urlopen(source_url) as url_file:\n",
    "    station_data = url_file.read().decode()\n",
    "    json_data = json.loads(station_data)"
   ]
  },
  {
   "cell_type": "markdown",
   "metadata": {},
   "source": [
    "## json -> dataframe"
   ]
  },
  {
   "cell_type": "code",
   "execution_count": 12,
   "metadata": {
    "scrolled": false
   },
   "outputs": [],
   "source": [
    "station_df = pd.DataFrame.from_dict(json_data['rows'])\n",
    "\n",
    "station_data_df = (station_df\n",
    "                   .join(pd.DataFrame.from_dict(\n",
    "                       station_df[['links']].to_dict()['links'])\n",
    "                         .T)\n",
    "                   .filter(items=['resort_name_short', 'weather'])\n",
    "                   )\n",
    "station_data_df.shape\n",
    "\n",
    "# if we get as many station as requested, there could be more we didn't get\n",
    "assert limit > station_data_df.shape[0]"
   ]
  },
  {
   "cell_type": "code",
   "execution_count": 6,
   "metadata": {},
   "outputs": [],
   "source": [
    "def link_fixer(ser, year=2018):\n",
    "    \"\"\"creates correct links from relative links for different page.\"\"\"\n",
    "    base = 'https://www.onthesnow.com'\n",
    "    tail = f'historical-snowfall.html?y={year}'\n",
    "    ser2 = ser.str.replace(pat=r'weather.html', repl=tail)\n",
    "    return base + ser2"
   ]
  },
  {
   "cell_type": "code",
   "execution_count": 13,
   "metadata": {},
   "outputs": [],
   "source": [
    "station_data_df = (station_data_df\n",
    "                   .assign(snow_link=link_fixer(station_data_df.weather))\n",
    "                   .drop(columns='weather')\n",
    "                  )\n",
    "\n",
    "# save to disk\n",
    "station_data_df.to_feather('../data/ots_station_links.feather')"
   ]
  },
  {
   "cell_type": "code",
   "execution_count": null,
   "metadata": {},
   "outputs": [],
   "source": []
  }
 ],
 "metadata": {
  "kernelspec": {
   "display_name": "ski_proj",
   "language": "python",
   "name": "ski_proj"
  },
  "language_info": {
   "codemirror_mode": {
    "name": "ipython",
    "version": 3
   },
   "file_extension": ".py",
   "mimetype": "text/x-python",
   "name": "python",
   "nbconvert_exporter": "python",
   "pygments_lexer": "ipython3",
   "version": "3.7.4"
  },
  "varInspector": {
   "cols": {
    "lenName": 16,
    "lenType": 16,
    "lenVar": 40
   },
   "kernels_config": {
    "python": {
     "delete_cmd_postfix": "",
     "delete_cmd_prefix": "del ",
     "library": "var_list.py",
     "varRefreshCmd": "print(var_dic_list())"
    },
    "r": {
     "delete_cmd_postfix": ") ",
     "delete_cmd_prefix": "rm(",
     "library": "var_list.r",
     "varRefreshCmd": "cat(var_dic_list()) "
    }
   },
   "types_to_exclude": [
    "module",
    "function",
    "builtin_function_or_method",
    "instance",
    "_Feature"
   ],
   "window_display": false
  }
 },
 "nbformat": 4,
 "nbformat_minor": 4
}
