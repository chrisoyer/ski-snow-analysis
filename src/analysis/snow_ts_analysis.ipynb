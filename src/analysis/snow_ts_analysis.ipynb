{
 "cells": [
  {
   "cell_type": "markdown",
   "metadata": {},
   "source": [
    "# Description\n",
    "This will focus on time series analysis. \n",
    "From the learned betas, I will do further analysis of how the infered variables vary by region, etc.\n",
    "\n",
    "#### NOTE: As described in EDA notebook, \"Pseudo_ts\" is concatenation of data from locally adjacent ski resorts (e.g., all resorts in Colorado) into a single timeseries.\n",
    "# Imports"
   ]
  },
  {
   "cell_type": "code",
   "execution_count": 20,
   "metadata": {},
   "outputs": [],
   "source": [
    "# data wrangling\n",
    "import numpy as np\n",
    "import pandas as pd\n",
    "import os.path\n",
    "from itertools import product as it_product\n",
    "\n",
    "# viz\n",
    "import altair as alt\n",
    "import matplotlib.pyplot as plt\n",
    "%matplotlib inline\n",
    "import seaborn as sns\n",
    "from scipy import stats\n",
    "from sklearn.preprocessing import MinMaxScaler\n",
    "\n",
    "# modeling\n",
    "from sklearn.model_selection import TimeSeriesSplit, cross_validate, GridSearchCV\n",
    "from sklearn.base import BaseEstimator, RegressorMixin\n",
    "import statsmodels.api as sm\n",
    "import statsmodels.formula.api as smf\n",
    "import statsmodels.tsa as smt\n",
    "import statsmodels.graphics as smg"
   ]
  },
  {
   "cell_type": "markdown",
   "metadata": {},
   "source": [
    "[example notebook: link](https://github.com/gakhov/pycon-ua-2018/blob/master/stochastic-models.ipynb)"
   ]
  },
  {
   "cell_type": "markdown",
   "metadata": {},
   "source": [
    "# Parameters"
   ]
  },
  {
   "cell_type": "code",
   "execution_count": 21,
   "metadata": {},
   "outputs": [],
   "source": [
    "alt.renderers.enable(embed_options={'theme': 'vox'})\n",
    "alt.data_transformers.disable_max_rows()\n",
    "plt.style.use('seaborn')\n",
    "plt.rc('figure', figsize=(11.0, 7.0))"
   ]
  },
  {
   "cell_type": "markdown",
   "metadata": {},
   "source": [
    "# Load Data"
   ]
  },
  {
   "cell_type": "code",
   "execution_count": 22,
   "metadata": {},
   "outputs": [],
   "source": [
    "all_data_path = r'../../data/snow_data_clean.parquet'"
   ]
  },
  {
   "cell_type": "code",
   "execution_count": 23,
   "metadata": {},
   "outputs": [],
   "source": [
    "def resample_by_month(df, time_col):\n",
    "    \"\"\"resample df on monthly basis using specified timestamp column\"\"\"\n",
    "    df = df.reset_index()\n",
    "    # handling of time_col\n",
    "    acceptable_time_col = ['timestamp', 'pseudo_ts']\n",
    "    other_time_col = [x for x in acceptable_time_col if x != time_col].pop()\n",
    "    if time_col not in acceptable_time_col:\n",
    "        raise Exception(f'must be in {acceptable_time_col}')\n",
    "    \n",
    "    month = (df\n",
    "             .set_index(f'{time_col}')\n",
    "             .groupby([pd.Grouper(freq='1MS'), 'station'])\n",
    "             .agg({'base': 'mean', 'snowfall': 'sum', \n",
    "                   'region': 'first', 'state': 'first', 'ski_yr': 'first',\n",
    "                   f'{other_time_col}': 'first'})\n",
    "            )\n",
    "    return month"
   ]
  },
  {
   "cell_type": "code",
   "execution_count": 24,
   "metadata": {},
   "outputs": [],
   "source": [
    "def index_setter(df=None, freq='M', index=\"pseudo_ts\"):\n",
    "    \"\"\"sets index to just timestamp and sets frequency of timestamp\"\"\"\n",
    "    try:\n",
    "        df = df.reset_index(level='station')\n",
    "    except KeyError:\n",
    "        df = df.set_index(index)\n",
    "    df.index = pd.DatetimeIndex(df.index.values, freq=freq)\n",
    "    return df"
   ]
  },
  {
   "cell_type": "code",
   "execution_count": 6,
   "metadata": {
    "scrolled": false
   },
   "outputs": [],
   "source": [
    "long_series_df = pd.read_parquet(all_data_path).reset_index().set_index('pseudo_ts')\n",
    "month_ts_df = long_series_df.pipe(resample_by_month, time_col='pseudo_ts')\n",
    "# start analysis with just CO resorts\n",
    "co_base_ts = (month_ts_df\n",
    "              .query('state==\"colorado\"')\n",
    "              #.pipe(index_setter, freq='MS')\n",
    "              .sort_values(by='pseudo_ts')\n",
    "              .dropna(how='all')\n",
    "             )"
   ]
  },
  {
   "cell_type": "code",
   "execution_count": 7,
   "metadata": {},
   "outputs": [
    {
     "data": {
      "text/html": [
       "<div>\n",
       "<style scoped>\n",
       "    .dataframe tbody tr th:only-of-type {\n",
       "        vertical-align: middle;\n",
       "    }\n",
       "\n",
       "    .dataframe tbody tr th {\n",
       "        vertical-align: top;\n",
       "    }\n",
       "\n",
       "    .dataframe thead th {\n",
       "        text-align: right;\n",
       "    }\n",
       "</style>\n",
       "<table border=\"1\" class=\"dataframe\">\n",
       "  <thead>\n",
       "    <tr style=\"text-align: right;\">\n",
       "      <th></th>\n",
       "      <th></th>\n",
       "      <th>base</th>\n",
       "      <th>snowfall</th>\n",
       "      <th>region</th>\n",
       "      <th>state</th>\n",
       "      <th>ski_yr</th>\n",
       "      <th>timestamp</th>\n",
       "    </tr>\n",
       "    <tr>\n",
       "      <th>pseudo_ts</th>\n",
       "      <th>station</th>\n",
       "      <th></th>\n",
       "      <th></th>\n",
       "      <th></th>\n",
       "      <th></th>\n",
       "      <th></th>\n",
       "      <th></th>\n",
       "    </tr>\n",
       "  </thead>\n",
       "  <tbody>\n",
       "    <tr>\n",
       "      <th>2018-09-01</th>\n",
       "      <th>Arapahoe Basin</th>\n",
       "      <td>NaN</td>\n",
       "      <td>0.0</td>\n",
       "      <td>Colorado</td>\n",
       "      <td>colorado</td>\n",
       "      <td>7.0</td>\n",
       "      <td>NaT</td>\n",
       "    </tr>\n",
       "  </tbody>\n",
       "</table>\n",
       "</div>"
      ],
      "text/plain": [
       "                           base  snowfall    region     state  ski_yr  \\\n",
       "pseudo_ts  station                                                      \n",
       "2018-09-01 Arapahoe Basin   NaN       0.0  Colorado  colorado     7.0   \n",
       "\n",
       "                          timestamp  \n",
       "pseudo_ts  station                   \n",
       "2018-09-01 Arapahoe Basin       NaT  "
      ]
     },
     "execution_count": 7,
     "metadata": {},
     "output_type": "execute_result"
    }
   ],
   "source": [
    "co_base_ts[co_base_ts.base.isna()]"
   ]
  },
  {
   "cell_type": "markdown",
   "metadata": {},
   "source": [
    "# Plotting Functions\n",
    "* ACF, PACF, etc.  \n",
    "* residuals over time\n",
    "* y vs yhat\n",
    "* train & extrapolate\n",
    "\n"
   ]
  },
  {
   "cell_type": "code",
   "execution_count": 8,
   "metadata": {},
   "outputs": [],
   "source": [
    "def AC_PAC_plotter(df=None, lags=30, differences=None):\n",
    "    fig, (ax1, ax2) = plt.subplots(2, 1)\n",
    "    smg.tsaplots.plot_acf(x=df.base,\n",
    "                          lags=lags, alpha=0.05,\n",
    "                          use_vlines=True, unbiased=False,\n",
    "                          missing='conservative',\n",
    "                          title=f'Autocorrelation: Differencing: {differences}',\n",
    "                          zero=True, ax=ax1\n",
    "                          )\n",
    "    smg.tsaplots.plot_pacf(x=df.base, lags=lags,\n",
    "                           alpha=0.05, method='ldb', use_vlines=True,\n",
    "                           title='Partial Autocorrelation', zero=True,\n",
    "                           vlines_kwargs=None, ax=ax2)\n",
    "    fig"
   ]
  },
  {
   "cell_type": "code",
   "execution_count": 9,
   "metadata": {},
   "outputs": [],
   "source": [
    "def resid_plotter(residuals=None, y=None):\n",
    "    \"\"\"plot residual errors\"\"\"\n",
    "    fig, (ax1, ax2) = plt.subplots(2, figsize=(10, 10))\n",
    "    residuals.plot(title=\"Residuals over Time\", ax=ax1)\n",
    "    residuals.plot(kind='kde', title=\"Residuals Distribution\", ax=ax2)\n",
    "    plt.show()\n",
    "    print(residuals.describe())"
   ]
  },
  {
   "cell_type": "code",
   "execution_count": 10,
   "metadata": {},
   "outputs": [],
   "source": [
    "def y_and_yhat_plotter(model=None, endog=None, exog=None, query_filter=None, date_between=None):\n",
    "    \"\"\"endog should be df with time series data and pseudo_ts\"\"\"\n",
    "    df = endog.copy()\n",
    "    df.columns = ['y', 'pseudo_ts']\n",
    "    yhat = model.fit().predict(df.values, exog)\n",
    "    df['yhat'] = yhat\n",
    "    if query_filter:\n",
    "        df = df.query(query_filter)\n",
    "    if date_between:\n",
    "        df = df.loc[df.pseudo_ts.between(*date_between)]\n",
    "    df = df.melt(value_vars=['y', 'yhat'], id_vars=['pseudo_ts'])\n",
    "    fig, ax = plt.subplots(figsize=(18, 6))\n",
    "    sns.lineplot(data=df, x='pseudo_ts', y='value', hue='variable')\n",
    "    plt.show();"
   ]
  },
  {
   "cell_type": "markdown",
   "metadata": {},
   "source": [
    "# Timeseries Modeling\n",
    "\n",
    "The evolution of snow base depth over time depends (not 1:1; a foot of powder is only a few inches of packed powder) on new snowfall and melting of old snow. I will start by modeling as a simple timeseries, and then include new snowfall as a predictor variable."
   ]
  },
  {
   "cell_type": "markdown",
   "metadata": {},
   "source": [
    "## Modeling Setup\n",
    "I will use supersetting crossvalidation (walk-forward CV) since this is a time series problem."
   ]
  },
  {
   "cell_type": "code",
   "execution_count": 11,
   "metadata": {},
   "outputs": [],
   "source": [
    "class SMWrapper(BaseEstimator, RegressorMixin):\n",
    "    \"\"\" A sklearn-style wrapper for statsmodels ARIMA models \"\"\"\n",
    "\n",
    "    def __init__(self, model_class, order, seasonal_order=None):\n",
    "        self.model_class = model_class\n",
    "        self.order = order\n",
    "        self.seasonal_order = seasonal_order\n",
    "\n",
    "    def fit(self, endog=None, exog=None):\n",
    "        self.endog = endog\n",
    "        self.exog = exog\n",
    "        self.sm_model_ = self.model_class(endog=self.endog, exog=self.exog,\n",
    "                                          order=self.order,\n",
    "                                          seasonal_order=self.seasonal_order,)\n",
    "        self.results_ = self.sm_model_.fit()\n",
    "        self.mse, self.mae = self.results_.mse, self.results_.mae\n",
    "        self.bic, self.aic = self.results_.bic, self.results_.aic\n",
    "        # return self.results_\n",
    "\n",
    "    def predict(self, X):\n",
    "        X = (X\n",
    "             .reindex(['timestamp', 'base', 'snowfall'], axis=1)\n",
    "             .set_index('timestamp'))\n",
    "        return self.results_.predict(start=X.iloc[0].name,\n",
    "                                     end=X.iloc[-1].name,\n",
    "                                     exog=X.iloc[:, 2])\n",
    "\n",
    "    def summary(self):\n",
    "        return self.results_.summary()"
   ]
  },
  {
   "cell_type": "code",
   "execution_count": 12,
   "metadata": {},
   "outputs": [],
   "source": [
    "def time_crossval(model, X, y):\n",
    "    \"\"\"takes sklearn-API model and returns CV results\n",
    "    input:\n",
    "        model: sklearn-API model\n",
    "        X: \n",
    "        Y:\n",
    "    \"\"\"\n",
    "    time_split = TimeSeriesSplit(8)\n",
    "    cv_results = cross_validate(model, X, y, cv=time_split, \n",
    "                            scoring=['neg_root_mean_squared_error', 'r2',\n",
    "                                     'neg_mean_absolute_error'], n_jobs=1) \n",
    "    return cv_results"
   ]
  },
  {
   "cell_type": "code",
   "execution_count": 13,
   "metadata": {},
   "outputs": [],
   "source": [
    "def pdq_maker(order_limit=2, s_order_limit=1, period=12):\n",
    "    \"\"\"generate all possible SARIMA orders for range\"\"\"\n",
    "    p = d = q = range(0, order_limit)\n",
    "    P = D = Q = range(0, s_order_limit)\n",
    "    # Generate all different combinations of pdq/PDQ triplets\n",
    "    pdq = list(it_product(p, d, q))\n",
    "    seasonal_PDQ = [(x[0], x[1], x[2], period) for x in list(it_product(p, d, q))]\n",
    "    return (pdq, seasonal_PDQ)\n",
    "\n",
    "def IC_chooser(unwrapped_mod=None, X=None, y=None, order_limit=(2,1)):\n",
    "    \"\"\"Use AIC/BIC to choose best model from grid of (pdq)(PDQ)S models\n",
    "    Params:\n",
    "        model:  sklearn model\n",
    "        X:  \n",
    "        y:\n",
    "        order_limit:  tuple of highest order to use for pdq/PDQ\n",
    "    Returns:\n",
    "        df of AIC/BIC statistics\n",
    "    \"\"\"\n",
    "    pdq, seasonal_pdq = pdq_maker(*order_limit)\n",
    "    AIC, BIC = {}, {}\n",
    "    for order in pdq:\n",
    "        for season_order in seasonal_pdq:\n",
    "            model = SMWrapper(unwrapped_mod, order=order, seasonal_order=season_order)\n",
    "            model.fit(endog=X)\n",
    "            AIC[f\"{order}{season_order}12\"] = model.aic\n",
    "            BIC[f\"{order}{season_order}12\"] = model.bic\n",
    "    ic_df = (pd.DataFrame.from_dict(AIC, orient='index').rename(columns={0:\"AIC\"})\n",
    "             .merge(right=\n",
    "                   pd.DataFrame.from_dict(BIC, orient='index').rename(columns={0:\"BIC\"}),\n",
    "                   left_index=True, right_index=True)\n",
    "             .sort_values(by='BIC', ascending=True)\n",
    "             )\n",
    "    return ic_df"
   ]
  },
  {
   "cell_type": "markdown",
   "metadata": {},
   "source": [
    "## ARIMA and extensions"
   ]
  },
  {
   "cell_type": "code",
   "execution_count": 14,
   "metadata": {
    "scrolled": false
   },
   "outputs": [
    {
     "data": {
      "text/plain": [
       "<Figure size 792x504 with 0 Axes>"
      ]
     },
     "metadata": {},
     "output_type": "display_data"
    },
    {
     "data": {
      "image/png": "[encoded data removed]",
      "text/plain": [
       "<Figure size 792x504 with 4 Axes>"
      ]
     },
     "metadata": {},
     "output_type": "display_data"
    }
   ],
   "source": [
    "winter_park = co_base_ts.query('station==\"Winter Park\"') \\\n",
    "    .pipe(index_setter, freq=\"MS\",\n",
    "          index='timestamp').fillna(0)\n",
    "decomposition = smt.seasonal.seasonal_decompose(winter_park.base, period=12)\n",
    "fig = plt.figure()\n",
    "fig = decomposition.plot()"
   ]
  },
  {
   "cell_type": "markdown",
   "metadata": {},
   "source": [
    "There is clear seasonality so I will specify a Seasonal autoregressive integrated moving average model. I will start with the combined timeseries for the Colorado ski mountains."
   ]
  },
  {
   "cell_type": "code",
   "execution_count": 15,
   "metadata": {},
   "outputs": [
    {
     "data": {
      "image/png": "[encoded data removed]",
      "text/plain": [
       "<Figure size 792x504 with 2 Axes>"
      ]
     },
     "metadata": {},
     "output_type": "display_data"
    }
   ],
   "source": [
    "AC_PAC_plotter(winter_park.fillna(0))"
   ]
  },
  {
   "cell_type": "code",
   "execution_count": 16,
   "metadata": {},
   "outputs": [
    {
     "data": {
      "image/png": "[encoded data removed]",
      "text/plain": [
       "<Figure size 792x504 with 2 Axes>"
      ]
     },
     "metadata": {},
     "output_type": "display_data"
    }
   ],
   "source": [
    "AC_PAC_plotter(winter_park.assign(base=lambda x: x.base.diff(periods=1)).fillna(0))"
   ]
  },
  {
   "cell_type": "markdown",
   "metadata": {},
   "source": [
    "I will use differencing order of 1. There may be a trend do to sequence the mountains were concatenated in.\n",
    "I will add one MA term because of the slight negative correlation on the differenced series on the first lag."
   ]
  },
  {
   "cell_type": "code",
   "execution_count": 17,
   "metadata": {},
   "outputs": [],
   "source": [
    "# try crossvalition on model \n",
    "# (p, d, q) | (AR, diff, MA) ; \n",
    "arima_model = SMWrapper(model_class=smt.arima.model.ARIMA, \n",
    "                        order=(0, 1, 1))\n",
    "\n",
    "arima_model_fit = arima_model.fit(endog=winter_park.base)\n",
    "arima_model_fit"
   ]
  },
  {
   "cell_type": "code",
   "execution_count": 18,
   "metadata": {
    "scrolled": false
   },
   "outputs": [
    {
     "name": "stderr",
     "output_type": "stream",
     "text": [
      "c:\\users\\user\\documents\\github\\ski-snow-modeling\\venv\\lib\\site-packages\\sklearn\\model_selection\\_validation.py:536: FitFailedWarning: Estimator fit failed. The score on this train-test partition for these parameters will be set to nan. Details: \n",
      "ValueError: Pandas data cast to numpy dtype of object. Check input data with np.asarray(data).\n",
      "\n",
      "  FitFailedWarning)\n"
     ]
    },
    {
     "data": {
      "text/plain": [
       "{'fit_time': array([0.01495934, 0.01894975, 0.02293968, 0.09973407, 0.04239607,\n",
       "        0.06681871, 0.06782436, 0.06682324]),\n",
       " 'score_time': array([0., 0., 0., 0., 0., 0., 0., 0.]),\n",
       " 'test_neg_root_mean_squared_error': array([nan, nan, nan, nan, nan, nan, nan, nan]),\n",
       " 'test_r2': array([nan, nan, nan, nan, nan, nan, nan, nan]),\n",
       " 'test_neg_mean_absolute_error': array([nan, nan, nan, nan, nan, nan, nan, nan])}"
      ]
     },
     "execution_count": 18,
     "metadata": {},
     "output_type": "execute_result"
    }
   ],
   "source": [
    "time_crossval(model=arima_model, X=month_ts_df, \n",
    "              y=month_ts_df.shift(1).fillna(0))"
   ]
  },
  {
   "cell_type": "code",
   "execution_count": 19,
   "metadata": {},
   "outputs": [
    {
     "ename": "AttributeError",
     "evalue": "'NoneType' object has no attribute 'resid'",
     "output_type": "error",
     "traceback": [
      "\u001b[1;31m---------------------------------------------------------------------------\u001b[0m",
      "\u001b[1;31mAttributeError\u001b[0m                            Traceback (most recent call last)",
      "\u001b[1;32m<ipython-input-19-85b0c8f93b18>\u001b[0m in \u001b[0;36m<module>\u001b[1;34m\u001b[0m\n\u001b[1;32m----> 1\u001b[1;33m \u001b[0marima_resids\u001b[0m \u001b[1;33m=\u001b[0m \u001b[0mpd\u001b[0m\u001b[1;33m.\u001b[0m\u001b[0mDataFrame\u001b[0m\u001b[1;33m(\u001b[0m\u001b[0marima_model_fit\u001b[0m\u001b[1;33m.\u001b[0m\u001b[0mresid\u001b[0m\u001b[1;33m)\u001b[0m\u001b[1;33m\u001b[0m\u001b[1;33m\u001b[0m\u001b[0m\n\u001b[0m\u001b[0;32m      2\u001b[0m \u001b[0mresid_plotter\u001b[0m\u001b[1;33m(\u001b[0m\u001b[0marima_resids\u001b[0m\u001b[1;33m)\u001b[0m\u001b[1;33m\u001b[0m\u001b[1;33m\u001b[0m\u001b[0m\n",
      "\u001b[1;31mAttributeError\u001b[0m: 'NoneType' object has no attribute 'resid'"
     ]
    }
   ],
   "source": [
    "arima_resids = pd.DataFrame(arima_model_fit.resid)\n",
    "resid_plotter(arima_resids)"
   ]
  },
  {
   "cell_type": "code",
   "execution_count": null,
   "metadata": {},
   "outputs": [],
   "source": [
    "_ = arima_model_fit.plot_diagnostics(figsize=(15, 12))"
   ]
  },
  {
   "cell_type": "code",
   "execution_count": null,
   "metadata": {},
   "outputs": [],
   "source": [
    "IC_chooser(unwrapped_mod=smt.arima.model.ARIMA, X=month_ts_df.base, \n",
    "           y=month_ts_df.base.shift(1), order_limit=(2, 0))\\\n",
    ".applymap((lambda x : \"{:,.0f}\".format(x)))"
   ]
  },
  {
   "cell_type": "markdown",
   "metadata": {},
   "source": [
    "there does not appear to be a trend. The errors are not exactly normal. The residuals vary cyclicly so an ARCH  model may be useful."
   ]
  },
  {
   "cell_type": "code",
   "execution_count": null,
   "metadata": {
    "scrolled": false
   },
   "outputs": [],
   "source": [
    "start_d, end_d = '2004-08-01', '2006-07-30'\n",
    "y_and_yhat_plotter(arima_model, co_base_ts[['base', 'pseudo_ts',]], \n",
    "                   #query_filter='pseudo_ts>@start_d & pseudo_ts<@end_d'\n",
    "                  )"
   ]
  },
  {
   "cell_type": "markdown",
   "metadata": {},
   "source": [
    "this looks somewhat over-dispersed.\n",
    "\n",
    "### SARIMA\n",
    "There should not be any relationship between years (absent modeling climate-level dependencies e.g. El Niño cycles, so I will do a simple 1 years differencing."
   ]
  },
  {
   "cell_type": "code",
   "execution_count": null,
   "metadata": {
    "scrolled": false
   },
   "outputs": [],
   "source": [
    "IC_results = IC_chooser(unwrapped_mod=smt.arima.model.ARIMA, X=month_ts_df.base,  # too short but just testing\n",
    "                        y=month_ts_df.base.shift(1), order_limit=(2, 1))"
   ]
  },
  {
   "cell_type": "code",
   "execution_count": null,
   "metadata": {
    "scrolled": true
   },
   "outputs": [],
   "source": [
    "IC_results.applymap(lambda x : \"{:,.0f}\".format(x))"
   ]
  },
  {
   "cell_type": "code",
   "execution_count": null,
   "metadata": {},
   "outputs": [],
   "source": [
    "sarima_model = smt.arima.model.ARIMA(endog=month_ts_df.base, order=(0, 1, 1),\n",
    "                                    seasonal_order=(0, 1, 0, 12))\n",
    "sarima_model_fit = sarima_model.fit()"
   ]
  },
  {
   "cell_type": "code",
   "execution_count": null,
   "metadata": {},
   "outputs": [],
   "source": [
    "sarima_model_fit.summary()"
   ]
  },
  {
   "cell_type": "code",
   "execution_count": null,
   "metadata": {},
   "outputs": [],
   "source": []
  },
  {
   "cell_type": "markdown",
   "metadata": {},
   "source": [
    "# Regression with SARIMA Errors\n",
    "Similar to ARIMAX but with more interpretable coefficients.\n",
    "using snowfall data with powder -> packed powder and melt inference"
   ]
  },
  {
   "cell_type": "code",
   "execution_count": null,
   "metadata": {},
   "outputs": [],
   "source": [
    "reg_w_sarima = smt.statespace.sarimax.SARIMAX(endog=month_ts_df.base, exog=month_ts_df.snowfall,\n",
    "                                              order=(0,1,1), seasonal_order=(0,1,0,12))\n",
    "reg_w_sarima_results = reg_w_sarima.fit()"
   ]
  },
  {
   "cell_type": "code",
   "execution_count": null,
   "metadata": {},
   "outputs": [],
   "source": [
    "reg_w_sarima_results.summary()"
   ]
  },
  {
   "cell_type": "code",
   "execution_count": null,
   "metadata": {},
   "outputs": [],
   "source": [
    "reg_w_sarima_results.predict(endog=month_ts_df.base, exog=month_ts_df.snowfall,)"
   ]
  },
  {
   "cell_type": "code",
   "execution_count": null,
   "metadata": {},
   "outputs": [],
   "source": [
    "y_and_yhat_plotter(model=reg_w_sarima, endog=month_ts_df.base, exog=month_ts_df.snowfall,)"
   ]
  },
  {
   "cell_type": "code",
   "execution_count": null,
   "metadata": {
    "scrolled": false
   },
   "outputs": [],
   "source": [
    "snow_beta_df = (pd.DataFrame({'station': ['test'], 'beta': [0], 'region': ['test']})\n",
    "                .drop(index=0))  # avoid pd forcing region column to numeric\n",
    "month_reset = month_ts_df.reset_index().set_index('timestamp').asfreq('M')\n",
    "for station in month_reset.station.unique():\n",
    "    station_df = month_reset[month_reset.station==station]\n",
    "    reg_w_sarima = smt.statespace.sarimax.SARIMAX(endog=station_df.base, \n",
    "                                                  exog=station_df.snowfall,\n",
    "                                                  order=(0,1,1), \n",
    "                                                  seasonal_order=(0,1,0,12))\n",
    "    results = reg_w_sarima.fit()\n",
    "    snow_beta_df.at[station, 'beta'] = results.params.snowfall\n",
    "    snow_beta_df.at[station, 'region'] = station_df.region[0]"
   ]
  },
  {
   "cell_type": "code",
   "execution_count": null,
   "metadata": {},
   "outputs": [],
   "source": [
    "snow_beta_df.head()"
   ]
  },
  {
   "cell_type": "code",
   "execution_count": null,
   "metadata": {},
   "outputs": [],
   "source": [
    "sns.boxplot(data=snow_beta_df, x='region', y='beta')\n",
    "plt.title('Snowfall beta: Estimate of how an inch of snowfall will affect base depth, after accounting for time series effect e.g. seasonal change');"
   ]
  },
  {
   "cell_type": "markdown",
   "metadata": {},
   "source": [
    "#### Other models\n",
    "GARCH, Gaussian Process, hidden Markov"
   ]
  },
  {
   "cell_type": "code",
   "execution_count": null,
   "metadata": {},
   "outputs": [],
   "source": []
  },
  {
   "cell_type": "markdown",
   "metadata": {},
   "source": [
    "### Bayesian Structural Model\n",
    "[example bsm in R](https://multithreaded.stitchfix.com/blog/2016/04/21/forget-arima/),  \n",
    "[use tensorflow probability](https://blog.tensorflow.org/2019/03/structural-time-series-modeling-in.html),  \n",
    "[tfp example notebook: link](https://github.com/tensorflow/probability/blob/master/tensorflow_probability/examples/jupyter_notebooks/Structural_Time_Series_Modeling_Case_Studies_Atmospheric_CO2_and_Electricity_Demand.ipynb), "
   ]
  },
  {
   "cell_type": "markdown",
   "metadata": {},
   "source": [
    "### Panel Models\n",
    "Linearmodels module?"
   ]
  }
 ],
 "metadata": {
  "kernelspec": {
   "display_name": "ski_proj",
   "language": "python",
   "name": "ski_proj"
  },
  "language_info": {
   "codemirror_mode": {
    "name": "ipython",
    "version": 3
   },
   "file_extension": ".py",
   "mimetype": "text/x-python",
   "name": "python",
   "nbconvert_exporter": "python",
   "pygments_lexer": "ipython3",
   "version": "3.7.4"
  },
  "varInspector": {
   "cols": {
    "lenName": 16,
    "lenType": 16,
    "lenVar": 40
   },
   "kernels_config": {
    "python": {
     "delete_cmd_postfix": "",
     "delete_cmd_prefix": "del ",
     "library": "var_list.py",
     "varRefreshCmd": "print(var_dic_list())"
    },
    "r": {
     "delete_cmd_postfix": ") ",
     "delete_cmd_prefix": "rm(",
     "library": "var_list.r",
     "varRefreshCmd": "cat(var_dic_list()) "
    }
   },
   "types_to_exclude": [
    "module",
    "function",
    "builtin_function_or_method",
    "instance",
    "_Feature"
   ],
   "window_display": false
  }
 },
 "nbformat": 4,
 "nbformat_minor": 4
}
