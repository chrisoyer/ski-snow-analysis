{
  "nbformat": 4,
  "nbformat_minor": 0,
  "metadata": {
    "colab": {
      "name": "snow_nonts_analysis.ipynb",
      "provenance": []
    },
    "kernelspec": {
      "display_name": "Python 3",
      "language": "python",
      "name": "python3"
    },
    "language_info": {
      "codemirror_mode": {
        "name": "ipython",
        "version": 3
      },
      "file_extension": ".py",
      "mimetype": "text/x-python",
      "name": "python",
      "nbconvert_exporter": "python",
      "pygments_lexer": "ipython3",
      "version": "3.7.4"
    },
    "varInspector": {
      "cols": {
        "lenName": 16,
        "lenType": 16,
        "lenVar": 40
      },
      "kernels_config": {
        "python": {
          "delete_cmd_postfix": "",
          "delete_cmd_prefix": "del ",
          "library": "var_list.py",
          "varRefreshCmd": "print(var_dic_list())"
        },
        "r": {
          "delete_cmd_postfix": ") ",
          "delete_cmd_prefix": "rm(",
          "library": "var_list.r",
          "varRefreshCmd": "cat(var_dic_list()) "
        }
      },
      "types_to_exclude": [
        "module",
        "function",
        "builtin_function_or_method",
        "instance",
        "_Feature"
      ],
      "window_display": false
    }
  },
  "cells": [
    {
      "cell_type": "markdown",
      "metadata": {
        "id": "XCGOsNC1F6EV"
      },
      "source": [
        "# Description\n",
        "This will focus on using classic regression models and bayesian models. \n",
        "\n",
        "#### NOTE: As described in EDA notebook, \"Pseudo_ts\" is concatenation of data from locally adjacent ski resorts (e.g., all resorts in Colorado) into a single timeseries.\n",
        "# Imports"
      ]
    },
    {
      "cell_type": "code",
      "metadata": {
        "id": "5hkRrNSaGDae",
        "outputId": "ee021654-67b3-413e-f453-a271b1340a39",
        "colab": {
          "base_uri": "https://localhost:8080/",
          "height": 754
        }
      },
      "source": [
        "! pip install vapeplot arviz pystan stan_utility"
      ],
      "execution_count": 1,
      "outputs": [
        {
          "output_type": "stream",
          "text": [
            "Collecting vapeplot\n",
            "  Downloading https://files.pythonhosted.org/packages/c2/00/e23e04f686d950f55bbda9502d54e437a3b0cbc7c74f6bcaaae0765bc1cf/vapeplot-0.0.8.tar.gz\n",
            "Collecting arviz\n",
            "\u001b[?25l  Downloading https://files.pythonhosted.org/packages/a9/05/54183e9e57b0793eceb67361dbf4a7c4ed797ae36a04a3287791a564568c/arviz-0.10.0-py3-none-any.whl (1.5MB)\n",
            "\u001b[K     |████████████████████████████████| 1.5MB 5.8MB/s \n",
            "\u001b[?25hRequirement already satisfied: pystan in /usr/local/lib/python3.6/dist-packages (2.19.1.1)\n",
            "Collecting stan_utility\n",
            "  Downloading https://files.pythonhosted.org/packages/b3/80/44ea5cb90508eda677e1a5635d687c00481a8b1d26671278f764e7ccd8cf/stan_utility-0.1.2-py2.py3-none-any.whl\n",
            "Requirement already satisfied: matplotlib in /usr/local/lib/python3.6/dist-packages (from vapeplot) (3.2.2)\n",
            "Requirement already satisfied: numpy in /usr/local/lib/python3.6/dist-packages (from vapeplot) (1.18.5)\n",
            "Collecting netcdf4\n",
            "\u001b[?25l  Downloading https://files.pythonhosted.org/packages/09/39/3687b2ba762a709cd97e48dfaf3ae36a78ae603ec3d1487f767ad58a7b2e/netCDF4-1.5.4-cp36-cp36m-manylinux1_x86_64.whl (4.3MB)\n",
            "\u001b[K     |████████████████████████████████| 4.3MB 19.8MB/s \n",
            "\u001b[?25hRequirement already satisfied: pandas>=0.23 in /usr/local/lib/python3.6/dist-packages (from arviz) (1.1.2)\n",
            "Collecting xarray>=0.16.1\n",
            "\u001b[?25l  Downloading https://files.pythonhosted.org/packages/7a/cc/62ca520e349e63b05ce43c781757cbd3bea71d83ece96f2176763b57e8c2/xarray-0.16.1-py3-none-any.whl (720kB)\n",
            "\u001b[K     |████████████████████████████████| 727kB 40.1MB/s \n",
            "\u001b[?25hRequirement already satisfied: scipy>=0.19 in /usr/local/lib/python3.6/dist-packages (from arviz) (1.4.1)\n",
            "Requirement already satisfied: setuptools>=38.4 in /usr/local/lib/python3.6/dist-packages (from arviz) (50.3.0)\n",
            "Requirement already satisfied: packaging in /usr/local/lib/python3.6/dist-packages (from arviz) (20.4)\n",
            "Requirement already satisfied: Cython!=0.25.1,>=0.22 in /usr/local/lib/python3.6/dist-packages (from pystan) (0.29.21)\n",
            "Requirement already satisfied: h5py in /usr/local/lib/python3.6/dist-packages (from stan_utility) (2.10.0)\n",
            "Requirement already satisfied: python-dateutil>=2.1 in /usr/local/lib/python3.6/dist-packages (from matplotlib->vapeplot) (2.8.1)\n",
            "Requirement already satisfied: kiwisolver>=1.0.1 in /usr/local/lib/python3.6/dist-packages (from matplotlib->vapeplot) (1.2.0)\n",
            "Requirement already satisfied: pyparsing!=2.0.4,!=2.1.2,!=2.1.6,>=2.0.1 in /usr/local/lib/python3.6/dist-packages (from matplotlib->vapeplot) (2.4.7)\n",
            "Requirement already satisfied: cycler>=0.10 in /usr/local/lib/python3.6/dist-packages (from matplotlib->vapeplot) (0.10.0)\n",
            "Collecting cftime\n",
            "\u001b[?25l  Downloading https://files.pythonhosted.org/packages/81/f4/31cb9b65f462ea960bd334c5466313cb7b8af792f272546b68b7868fccd4/cftime-1.2.1-cp36-cp36m-manylinux1_x86_64.whl (287kB)\n",
            "\u001b[K     |████████████████████████████████| 296kB 48.1MB/s \n",
            "\u001b[?25hRequirement already satisfied: pytz>=2017.2 in /usr/local/lib/python3.6/dist-packages (from pandas>=0.23->arviz) (2018.9)\n",
            "Requirement already satisfied: six in /usr/local/lib/python3.6/dist-packages (from packaging->arviz) (1.15.0)\n",
            "Building wheels for collected packages: vapeplot\n",
            "  Building wheel for vapeplot (setup.py) ... \u001b[?25l\u001b[?25hdone\n",
            "  Created wheel for vapeplot: filename=vapeplot-0.0.8-cp36-none-any.whl size=11017 sha256=f2b24f5e451aa1d9106dc56ae23338071abdecfe4b059f1785e6ac9419dd7397\n",
            "  Stored in directory: /root/.cache/pip/wheels/5e/f5/95/d4cd5d6af4055b9adc70ff5860e557d58f0b3bdab1f7e0362a\n",
            "Successfully built vapeplot\n",
            "Installing collected packages: vapeplot, cftime, netcdf4, xarray, arviz, stan-utility\n",
            "  Found existing installation: xarray 0.15.1\n",
            "    Uninstalling xarray-0.15.1:\n",
            "      Successfully uninstalled xarray-0.15.1\n",
            "Successfully installed arviz-0.10.0 cftime-1.2.1 netcdf4-1.5.4 stan-utility-0.1.2 vapeplot-0.0.8 xarray-0.16.1\n"
          ],
          "name": "stdout"
        }
      ]
    },
    {
      "cell_type": "code",
      "metadata": {
        "id": "TNlQEkolNSWR",
        "outputId": "ad657942-cb4b-4405-9146-011b8d887788",
        "colab": {
          "base_uri": "https://localhost:8080/",
          "height": 87
        }
      },
      "source": [
        "try:\n",
        "    import google.colab\n",
        "    IN_COLAB = True\n",
        "except:\n",
        "    IN_COLAB = False\n",
        "\n",
        "if IN_COLAB:\n",
        "    import os\n",
        "    from google.colab import drive\n",
        "    drive.mount('/content/gdrive')\n",
        "    base_path = r'/content/gdrive/My Drive/data_sci/colab/ski/'\n",
        "    os.chdir(base_path)\n",
        "    try:\n",
        "        ! git clone https://github.com/chrisoyer/ski-snow-modeling/\n",
        "    #normal try/except doesn't work on 'fatal' error\n",
        "    except:\n",
        "        ! git pull\n",
        "    mod_path = os.path.join(base_path, \n",
        "                            r\"ski-snow-modeling/src/analysis/project_utils/project_utils.py\")\n",
        "    import importlib.util\n",
        "    spec = importlib.util.spec_from_file_location(name=\"utils.name\", location=mod_path)\n",
        "    utils = importlib.util.module_from_spec(spec)\n",
        "    spec.loader.exec_module(utils)\n",
        "    \n",
        "    os.chdir('./ski-snow-modeling/src/analysis/')\n",
        "    # Change the working directory to the repo root.\n",
        "    # Add the repo root to the Python path.\n",
        "    import sys\n",
        "    sys.path.append(os.getcwd())\n",
        "else:\n",
        "    # local running\n",
        "    import project_utils as utils"
      ],
      "execution_count": 4,
      "outputs": [
        {
          "output_type": "stream",
          "text": [
            "Drive already mounted at /content/gdrive; to attempt to forcibly remount, call drive.mount(\"/content/gdrive\", force_remount=True).\n",
            "fatal: destination path 'ski-snow-modeling' already exists and is not an empty directory.\n",
            "fatal: not a git repository (or any parent up to mount point /content)\n",
            "Stopping at filesystem boundary (GIT_DISCOVERY_ACROSS_FILESYSTEM not set).\n"
          ],
          "name": "stdout"
        }
      ]
    },
    {
      "cell_type": "code",
      "metadata": {
        "id": "pIJH8fg2kf_r",
        "outputId": "5f78d67a-e877-47c0-a075-46104241082d",
        "colab": {
          "base_uri": "https://localhost:8080/",
          "height": 209
        }
      },
      "source": [
        "!git pull"
      ],
      "execution_count": 5,
      "outputs": [
        {
          "output_type": "stream",
          "text": [
            "remote: Enumerating objects: 14, done.\u001b[K\n",
            "remote: Counting objects:   7% (1/14)\u001b[K\rremote: Counting objects:  14% (2/14)\u001b[K\rremote: Counting objects:  21% (3/14)\u001b[K\rremote: Counting objects:  28% (4/14)\u001b[K\rremote: Counting objects:  35% (5/14)\u001b[K\rremote: Counting objects:  42% (6/14)\u001b[K\rremote: Counting objects:  50% (7/14)\u001b[K\rremote: Counting objects:  57% (8/14)\u001b[K\rremote: Counting objects:  64% (9/14)\u001b[K\rremote: Counting objects:  71% (10/14)\u001b[K\rremote: Counting objects:  78% (11/14)\u001b[K\rremote: Counting objects:  85% (12/14)\u001b[K\rremote: Counting objects:  92% (13/14)\u001b[K\rremote: Counting objects: 100% (14/14)\u001b[K\rremote: Counting objects: 100% (14/14), done.\u001b[K\n",
            "remote: Compressing objects:  14% (1/7)\u001b[K\rremote: Compressing objects:  28% (2/7)\u001b[K\rremote: Compressing objects:  42% (3/7)\u001b[K\rremote: Compressing objects:  57% (4/7)\u001b[K\rremote: Compressing objects:  71% (5/7)\u001b[K\rremote: Compressing objects:  85% (6/7)\u001b[K\rremote: Compressing objects: 100% (7/7)\u001b[K\rremote: Compressing objects: 100% (7/7), done.\u001b[K\n",
            "remote: Total 10 (delta 7), reused 5 (delta 3), pack-reused 0\u001b[K\n",
            "Unpacking objects: 100% (10/10), done.\n",
            "From https://github.com/chrisoyer/ski-snow-modeling\n",
            "   26825f9..7b13e2a  master     -> origin/master\n",
            "Updating 26825f9..7b13e2a\n",
            "Fast-forward\n",
            " src/analysis/snow_stan.ipynb | 922 \u001b[32m++++++++++++++++++++++++\u001b[m\u001b[31m-------------------\u001b[m\n",
            " 1 file changed, 509 insertions(+), 413 deletions(-)\n"
          ],
          "name": "stdout"
        }
      ]
    },
    {
      "cell_type": "code",
      "metadata": {
        "id": "h7TktoEhF6EX"
      },
      "source": [
        "# data wrangling\n",
        "import numpy as np\n",
        "import pandas as pd\n",
        "import os.path\n",
        "import pickle\n",
        "import calendar\n",
        "\n",
        "# viz\n",
        "import matplotlib.pyplot as plt\n",
        "%matplotlib inline\n",
        "import seaborn as sns\n",
        "import vapeplot\n",
        "import arviz as az\n",
        "\n",
        "# modeling\n",
        "import pystan\n",
        "import stan_utility\n",
        "from sklearn.metrics import r2_score\n",
        "from project_utils.project_utils import *\n",
        "\n",
        "%load_ext autoreload\n",
        "%autoreload 2"
      ],
      "execution_count": 6,
      "outputs": []
    },
    {
      "cell_type": "markdown",
      "metadata": {
        "id": "ed5zssxrF6Eb"
      },
      "source": [
        "# Parameters"
      ]
    },
    {
      "cell_type": "code",
      "metadata": {
        "id": "1VZB7OgpF6Ec"
      },
      "source": [
        "%config InlineBackend.figure_format = 'retina'\n",
        "plt.style.use('seaborn')\n",
        "plt.rc('figure', figsize=(11.0, 7.0))"
      ],
      "execution_count": 7,
      "outputs": []
    },
    {
      "cell_type": "markdown",
      "metadata": {
        "id": "qZtJblGFF6Eg"
      },
      "source": [
        "# Load Data"
      ]
    },
    {
      "cell_type": "code",
      "metadata": {
        "id": "lndHvFjsF6Eh"
      },
      "source": [
        "file_path = r'../../data/snow_data_clean.parquet'\n",
        "all_data_path = os.path.join(os.getcwd(), file_path)\n",
        "model_path = r'./stan_model.pkl'\n",
        "result_path = r'../../data/processed/stan_results.pkl'"
      ],
      "execution_count": 8,
      "outputs": []
    },
    {
      "cell_type": "code",
      "metadata": {
        "id": "jiLDY-_dF6Ek"
      },
      "source": [
        "# parquet opening is broken on colab\n",
        "with open(file_path, 'rb') as parq_file:\n",
        "    long_series_df = pd.read_parquet(parq_file)\n",
        "assert long_series_df.base.isna().sum()==0"
      ],
      "execution_count": 9,
      "outputs": []
    },
    {
      "cell_type": "markdown",
      "metadata": {
        "id": "Vfg37-k3F6En"
      },
      "source": [
        "# Feature Engineering"
      ]
    },
    {
      "cell_type": "code",
      "metadata": {
        "id": "dcKhhazNF6En"
      },
      "source": [
        "def add_month(data: pd.DataFrame) -> pd.DataFrame:\n",
        "    return data.assign(month=lambda x:\n",
        "                       x.pseudo_ts.dt.month)\n",
        "\n",
        "def add_diff(data: pd.DataFrame) -> pd.DataFrame:\n",
        "    \"\"\" use difference in base, not absolute value \"\"\"\n",
        "    return (data\n",
        "            .assign(delta_base=lambda x: x.base.diff(1))\n",
        "            .fillna(0)\n",
        "            .drop(columns=['base'])\n",
        "           )\n",
        "\n",
        "def ohe(data: pd.DataFrame, col: str) -> pd.DataFrame:\n",
        "    return pd.concat([data.drop(columns=[col]),\n",
        "                      pd.get_dummies(data[col],\n",
        "                                     prefix=col)],\n",
        "                     axis=1)\n",
        "\n",
        "def add_month_x_snowfall(data: pd.DataFrame) -> pd.DataFrame:\n",
        "    \"\"\"adds interaction terms\"\"\"\n",
        "    months = [col for col in data.columns\n",
        "              if 'month_' in col]\n",
        "    combos_df = pd.concat([pd.Series(data.snowfall * data[month],\n",
        "                                     name='snowfall_x_' + month)\n",
        "                           for month in months], axis=1)\n",
        "    return pd.concat([data, combos_df], axis=1)\n",
        "\n",
        "def cleaner(data: pd.DataFrame, includes: list=[None]) -> pd.DataFrame:\n",
        "    \"\"\" Removes interpolated rows and unneeded columns\n",
        "    Params:\n",
        "        data: df to operate on\n",
        "        includes: column names NOT to drop (don't need to specify usually)\n",
        "    ski_yr is needed for test/train split\"\"\"\n",
        "    data = data.query('basecol_interpolated==False')\n",
        "    bad_cols = ['dayofyr', 'station', 'state', 'pseudo_ski_yr',\n",
        "                'timestamp', 'basecol_interpolated', 'pseudo_ts',\n",
        "                'pseudo_ts_delt'\n",
        "               ]\n",
        "    bad_cols = [col for col in bad_cols if col not in includes]\n",
        "    return data.drop(columns=bad_cols)\n",
        "\n",
        "def sample_weighted_season(df: pd.DataFrame)->pd.DataFrame:\n",
        "    \"\"\"samples dataframe but doesn't remove rare months and mildly reduces\n",
        "    amount of semi-rare months\"\"\"\n",
        "    # un-OHE\n",
        "    df['month'] = df[[c for c in df.columns if \"month_\" in c and \"x_m\" not in c]].idxmax(axis=1)\n",
        "    # define months\n",
        "    rare_months = [f'month_{i}' for i in range(5,11)]\n",
        "    semirare_months = ['month_4', 'month_11']\n",
        "    nonrare_months = ['month_12', 'month_1', 'month_2', 'month_3']\n",
        "    # split and sample data\n",
        "    rare_data = df.query('month in @rare_months')\n",
        "    semirare_data = df.query('month in @semirare_months').sample(frac=.3, axis=0)\n",
        "    nonrare_data = df.query('month in @nonrare_months').sample(frac=.09, axis=0)\n",
        "    # recombine\n",
        "    return pd.concat([rare_data, semirare_data, nonrare_data], axis=0).drop(columns=['month'])"
      ],
      "execution_count": 10,
      "outputs": []
    },
    {
      "cell_type": "markdown",
      "metadata": {
        "id": "2xCn2bWK-bV5"
      },
      "source": [
        "### Split Data and sample dense areas"
      ]
    },
    {
      "cell_type": "code",
      "metadata": {
        "id": "XoUxdquzyI8V",
        "outputId": "8d778559-67c5-4708-f437-b86935ba4d43",
        "colab": {
          "base_uri": "https://localhost:8080/",
          "height": 469
        }
      },
      "source": [
        "# I want to oversample rare months, but will want to use the last year as the test set.\n",
        "long_series_df.query('basecol_interpolated==False')[['ski_yr', 'pseudo_ts', 'snowfall']]\\\n",
        ".assign(month=lambda x: x.pseudo_ts.dt.month)\\\n",
        ".drop(columns=['pseudo_ts'])\\\n",
        ".pivot_table(index=['month'], columns=['ski_yr'], values='snowfall', aggfunc='count')"
      ],
      "execution_count": 11,
      "outputs": [
        {
          "output_type": "stream",
          "text": [
            "INFO:numexpr.utils:NumExpr defaulting to 2 threads.\n"
          ],
          "name": "stderr"
        },
        {
          "output_type": "execute_result",
          "data": {
            "text/html": [
              "<div>\n",
              "<style scoped>\n",
              "    .dataframe tbody tr th:only-of-type {\n",
              "        vertical-align: middle;\n",
              "    }\n",
              "\n",
              "    .dataframe tbody tr th {\n",
              "        vertical-align: top;\n",
              "    }\n",
              "\n",
              "    .dataframe thead th {\n",
              "        text-align: right;\n",
              "    }\n",
              "</style>\n",
              "<table border=\"1\" class=\"dataframe\">\n",
              "  <thead>\n",
              "    <tr style=\"text-align: right;\">\n",
              "      <th>ski_yr</th>\n",
              "      <th>0.0</th>\n",
              "      <th>1.0</th>\n",
              "      <th>2.0</th>\n",
              "      <th>3.0</th>\n",
              "      <th>4.0</th>\n",
              "      <th>5.0</th>\n",
              "      <th>6.0</th>\n",
              "      <th>7.0</th>\n",
              "      <th>8.0</th>\n",
              "    </tr>\n",
              "    <tr>\n",
              "      <th>month</th>\n",
              "      <th></th>\n",
              "      <th></th>\n",
              "      <th></th>\n",
              "      <th></th>\n",
              "      <th></th>\n",
              "      <th></th>\n",
              "      <th></th>\n",
              "      <th></th>\n",
              "      <th></th>\n",
              "    </tr>\n",
              "  </thead>\n",
              "  <tbody>\n",
              "    <tr>\n",
              "      <th>1</th>\n",
              "      <td>4735.0</td>\n",
              "      <td>6067.0</td>\n",
              "      <td>6227.0</td>\n",
              "      <td>6240.0</td>\n",
              "      <td>6331.0</td>\n",
              "      <td>5975.0</td>\n",
              "      <td>5989.0</td>\n",
              "      <td>5914.0</td>\n",
              "      <td>5840.0</td>\n",
              "    </tr>\n",
              "    <tr>\n",
              "      <th>2</th>\n",
              "      <td>4376.0</td>\n",
              "      <td>5545.0</td>\n",
              "      <td>5781.0</td>\n",
              "      <td>5716.0</td>\n",
              "      <td>5484.0</td>\n",
              "      <td>5650.0</td>\n",
              "      <td>5158.0</td>\n",
              "      <td>5277.0</td>\n",
              "      <td>4949.0</td>\n",
              "    </tr>\n",
              "    <tr>\n",
              "      <th>3</th>\n",
              "      <td>4491.0</td>\n",
              "      <td>4810.0</td>\n",
              "      <td>5852.0</td>\n",
              "      <td>5795.0</td>\n",
              "      <td>5017.0</td>\n",
              "      <td>4507.0</td>\n",
              "      <td>4608.0</td>\n",
              "      <td>5060.0</td>\n",
              "      <td>5043.0</td>\n",
              "    </tr>\n",
              "    <tr>\n",
              "      <th>4</th>\n",
              "      <td>1534.0</td>\n",
              "      <td>1596.0</td>\n",
              "      <td>1798.0</td>\n",
              "      <td>2009.0</td>\n",
              "      <td>1229.0</td>\n",
              "      <td>1318.0</td>\n",
              "      <td>1594.0</td>\n",
              "      <td>1646.0</td>\n",
              "      <td>1703.0</td>\n",
              "    </tr>\n",
              "    <tr>\n",
              "      <th>5</th>\n",
              "      <td>162.0</td>\n",
              "      <td>153.0</td>\n",
              "      <td>210.0</td>\n",
              "      <td>266.0</td>\n",
              "      <td>92.0</td>\n",
              "      <td>183.0</td>\n",
              "      <td>178.0</td>\n",
              "      <td>185.0</td>\n",
              "      <td>305.0</td>\n",
              "    </tr>\n",
              "    <tr>\n",
              "      <th>6</th>\n",
              "      <td>25.0</td>\n",
              "      <td>17.0</td>\n",
              "      <td>31.0</td>\n",
              "      <td>52.0</td>\n",
              "      <td>12.0</td>\n",
              "      <td>49.0</td>\n",
              "      <td>23.0</td>\n",
              "      <td>26.0</td>\n",
              "      <td>122.0</td>\n",
              "    </tr>\n",
              "    <tr>\n",
              "      <th>7</th>\n",
              "      <td>2.0</td>\n",
              "      <td>2.0</td>\n",
              "      <td>4.0</td>\n",
              "      <td>27.0</td>\n",
              "      <td>NaN</td>\n",
              "      <td>1.0</td>\n",
              "      <td>17.0</td>\n",
              "      <td>10.0</td>\n",
              "      <td>31.0</td>\n",
              "    </tr>\n",
              "    <tr>\n",
              "      <th>8</th>\n",
              "      <td>NaN</td>\n",
              "      <td>2.0</td>\n",
              "      <td>4.0</td>\n",
              "      <td>NaN</td>\n",
              "      <td>NaN</td>\n",
              "      <td>NaN</td>\n",
              "      <td>1.0</td>\n",
              "      <td>6.0</td>\n",
              "      <td>1.0</td>\n",
              "    </tr>\n",
              "    <tr>\n",
              "      <th>9</th>\n",
              "      <td>NaN</td>\n",
              "      <td>NaN</td>\n",
              "      <td>NaN</td>\n",
              "      <td>1.0</td>\n",
              "      <td>NaN</td>\n",
              "      <td>NaN</td>\n",
              "      <td>NaN</td>\n",
              "      <td>1.0</td>\n",
              "      <td>1.0</td>\n",
              "    </tr>\n",
              "    <tr>\n",
              "      <th>10</th>\n",
              "      <td>NaN</td>\n",
              "      <td>54.0</td>\n",
              "      <td>44.0</td>\n",
              "      <td>69.0</td>\n",
              "      <td>32.0</td>\n",
              "      <td>15.0</td>\n",
              "      <td>18.0</td>\n",
              "      <td>33.0</td>\n",
              "      <td>63.0</td>\n",
              "    </tr>\n",
              "    <tr>\n",
              "      <th>11</th>\n",
              "      <td>735.0</td>\n",
              "      <td>1056.0</td>\n",
              "      <td>1072.0</td>\n",
              "      <td>1060.0</td>\n",
              "      <td>1518.0</td>\n",
              "      <td>819.0</td>\n",
              "      <td>568.0</td>\n",
              "      <td>891.0</td>\n",
              "      <td>997.0</td>\n",
              "    </tr>\n",
              "    <tr>\n",
              "      <th>12</th>\n",
              "      <td>4299.0</td>\n",
              "      <td>4471.0</td>\n",
              "      <td>4247.0</td>\n",
              "      <td>5293.0</td>\n",
              "      <td>5237.0</td>\n",
              "      <td>3367.0</td>\n",
              "      <td>4572.0</td>\n",
              "      <td>3976.0</td>\n",
              "      <td>4356.0</td>\n",
              "    </tr>\n",
              "  </tbody>\n",
              "</table>\n",
              "</div>"
            ],
            "text/plain": [
              "ski_yr     0.0     1.0     2.0     3.0     4.0     5.0     6.0     7.0     8.0\n",
              "month                                                                         \n",
              "1       4735.0  6067.0  6227.0  6240.0  6331.0  5975.0  5989.0  5914.0  5840.0\n",
              "2       4376.0  5545.0  5781.0  5716.0  5484.0  5650.0  5158.0  5277.0  4949.0\n",
              "3       4491.0  4810.0  5852.0  5795.0  5017.0  4507.0  4608.0  5060.0  5043.0\n",
              "4       1534.0  1596.0  1798.0  2009.0  1229.0  1318.0  1594.0  1646.0  1703.0\n",
              "5        162.0   153.0   210.0   266.0    92.0   183.0   178.0   185.0   305.0\n",
              "6         25.0    17.0    31.0    52.0    12.0    49.0    23.0    26.0   122.0\n",
              "7          2.0     2.0     4.0    27.0     NaN     1.0    17.0    10.0    31.0\n",
              "8          NaN     2.0     4.0     NaN     NaN     NaN     1.0     6.0     1.0\n",
              "9          NaN     NaN     NaN     1.0     NaN     NaN     NaN     1.0     1.0\n",
              "10         NaN    54.0    44.0    69.0    32.0    15.0    18.0    33.0    63.0\n",
              "11       735.0  1056.0  1072.0  1060.0  1518.0   819.0   568.0   891.0   997.0\n",
              "12      4299.0  4471.0  4247.0  5293.0  5237.0  3367.0  4572.0  3976.0  4356.0"
            ]
          },
          "metadata": {
            "tags": []
          },
          "execution_count": 11
        }
      ]
    },
    {
      "cell_type": "code",
      "metadata": {
        "id": "q11Mgqh69vMm"
      },
      "source": [
        "# set aside some data for multi-step analysis\n",
        "leaveouts = ['Eldora', 'Seven Springs']\n",
        "stan_multistep_test_df = (long_series_df.query('station in @leaveouts')\n",
        "                         .pipe(add_month)\n",
        "                         .pipe(add_diff)\n",
        "                         .pipe(ohe, 'region')\n",
        "                         .pipe(ohe, 'month')\n",
        "                         .pipe(cleaner))"
      ],
      "execution_count": 12,
      "outputs": []
    },
    {
      "cell_type": "code",
      "metadata": {
        "id": "__OGwbNgF6FR"
      },
      "source": [
        "stan_train_df, stan_test_df = (long_series_df\n",
        "           .drop(index=stan_multistep_test_df.index)\n",
        "           .pipe(add_month)\n",
        "           .pipe(add_diff)\n",
        "           .pipe(ohe, 'region')\n",
        "           .pipe(ohe, 'month')\n",
        "           .pipe(cleaner)\n",
        "           .pipe(train_test_split_ts, exog_cols='all', ski_yr_cutoff=7, as_monthly=False)\n",
        "           )\n",
        "stan_train_df = stan_train_df.pipe(sample_weighted_season)"
      ],
      "execution_count": 13,
      "outputs": []
    },
    {
      "cell_type": "code",
      "metadata": {
        "id": "RL_pNkXf5Vob"
      },
      "source": [
        "# provide data including shapes and column type locations to stan\n",
        "columns = stan_train_df.columns\n",
        "region_cols = [c for c in columns if \"region\" in c]\n",
        "month_cols = [col for col in stan_train_df.columns if \"month\" in col]\n",
        "\n",
        "def subsets(df: pd.DataFrame)-> tuple:\n",
        "    X = df.drop(columns=['delta_base'])\n",
        "    Xmonth= X[month_cols]\n",
        "    Xsnow = X['snowfall']\n",
        "    Xregion = X[region_cols]\n",
        "    y = df[['delta_base']]\n",
        "    return (X, Xmonth, Xsnow, Xregion, y)\n",
        "\n",
        "X, X_month, X_snow, X_region, y = subsets(stan_train_df)\n",
        "X_test, X_month_test, X_snow_test, X_region_test, _ = subsets(stan_test_df)\n",
        "\n",
        "stan_data = {'N': X.shape[0],\n",
        "             'K_month': X_month.shape[1],\n",
        "             'X_month': X_month.to_numpy(),\n",
        "             'K_reg': X_region.shape[1],\n",
        "             'X_reg': X_region.to_numpy(),\n",
        "             'X_snow': X_snow.to_numpy().reshape(-1,1),\n",
        "             'y': y.to_numpy().reshape(-1),\n",
        "             }\n",
        "stan_data_test = {**stan_data,\n",
        "                  'N_test': X_test.shape[0],\n",
        "                  'X_month_test': X_month_test.to_numpy(),\n",
        "                  'X_reg_test': X_region_test.to_numpy(),\n",
        "                  'X_snow_test': X_snow_test.to_numpy().reshape(-1,1),\n",
        "                  }"
      ],
      "execution_count": 18,
      "outputs": []
    },
    {
      "cell_type": "markdown",
      "metadata": {
        "id": "_m1rP0cIF6FR"
      },
      "source": [
        "# Bayesian Model in Stan (MCMC)\n",
        "I want to add priors to the model that snowfall should only result in increases in base depth, and monthly effects should only result in reduction (i.e., monthly effect should measure strength of melting.); changes at odds with this should be considered as noise. A bayesian model allows for this."
      ]
    },
    {
      "cell_type": "code",
      "metadata": {
        "id": "Rxc7NygqF6FU"
      },
      "source": [
        "functions_block = \"\"\"// for function\n",
        "\"\"\"\n",
        "data_block =  \"\"\"\n",
        "    // input data passed from Python\n",
        "    int<lower=1> N;               // number of data observations\n",
        "    int<lower=1> K_month;         // no of melting predictor\n",
        "    matrix[N, K_month] X_month;   // predictor for melting features\n",
        "    int<lower=1> K_reg;           // no of region features\n",
        "    matrix[N, K_reg] X_reg;       // region predictors\n",
        "    matrix[N, 1] X_snow;          // snowfall predictor\n",
        "    vector[N] y;                  // response vector\n",
        "    \n",
        "    // test variables\n",
        "    int<lower=1> N_test;                  // no of test records\n",
        "    matrix[N_test, K_month] X_month_test; // predictor for melting features\n",
        "    matrix[N_test, K_reg] X_reg_test;     // region predictors\n",
        "    matrix[N_test, 1] X_snow_test;\n",
        "    \"\"\"\n",
        "transformed_data_block = \"\"\"\n",
        "    matrix[N, K_reg] X_reg_snow;\n",
        "    row_vector[N] X_snow_rvect = to_row_vector(X_snow);\n",
        "    matrix[N_test, K_reg] X_reg_snow_test;\n",
        "    row_vector[N_test] X_snow_rvect_test = to_row_vector(X_snow_test);\n",
        "    \n",
        "    for (k in 1:K_reg) {          //  K_regxN * Nx1  T\n",
        "        for (n in 1:N) {\n",
        "            X_reg_snow[n,k] = X_snow_rvect[n] * X_reg[n,k];\n",
        "    }  }\n",
        "    \n",
        "    // same, but for test. Should do this with a function...\n",
        "    for (k in 1:K_reg) {\n",
        "        for (n in 1:N_test) {\n",
        "            X_reg_snow_test[n,k] = X_snow_rvect_test[n] * X_reg_test[n,k];\n",
        "    } }\"\"\"\n",
        "parameters_block = \"\"\"\n",
        "    // intercept was causing divergences and coef interpretation \n",
        "    // makes more sense without intercept: \n",
        "    // I don't expect change in base depth absent melting or snowfall\n",
        "    vector<upper=0>[K_month] beta_mo;           // coefficients for melting\n",
        "    vector<lower=0, upper=1>[K_reg] beta_reg_snow;       // coef for region x snow interaction\n",
        "    real<lower=0> sigma;                        // must be +ve\n",
        "    real<lower=0> sig_mos;                      // must be +ve\n",
        "    \"\"\"\n",
        "transformed_parameters_block = \"\"\" \"\"\"\n",
        "model_block_vars = \"\"\"\n",
        "    vector[N] mu;                       // y_hat\n",
        "    \"\"\"\n",
        "model_block_eqs = \"\"\"\n",
        "    sigma ~ cauchy(0, 10);              // half Cauchy\n",
        "    sig_mos ~ cauchy(0, 20);\n",
        "    for (n in 1:K_month) {\n",
        "        beta_mo[n] ~ normal(0, sig_mos) T[,0]; // sample from normal, only -ve\n",
        "    }\n",
        "    // prior on snow columns is beta over [0,1]\n",
        "    beta_reg_snow ~ beta(2.2, 3);         // reparameterize so this and snow are from beta dist\n",
        "    mu = X_month*beta_mo + X_reg_snow*beta_reg_snow;\n",
        "    y ~ normal(mu, sigma);\n",
        "    \"\"\"\n",
        "model_block = model_block_vars + model_block_eqs\n",
        "generated_quantities_block = \"\"\"\n",
        "    vector[N_test] y_test;\n",
        "    for(n in 1:N_test) {\n",
        "        y_test[n] = normal_rng(X_month_test[n]*beta_mo + X_reg_snow_test[n]*beta_reg_snow, sigma);\n",
        "    }\n",
        "    \"\"\"\n",
        "# assemble model\n",
        "def create_stan_model(functions_block=functions_block, data_block=data_block, \n",
        "                      transformed_data_block=transformed_data_block, \n",
        "                      parameters_block=parameters_block, \n",
        "                      transformed_parameters_block=transformed_parameters_block, model_block=model_block,\n",
        "                      generated_quantities_block=generated_quantities_block):\n",
        "    return f'''\n",
        "    functions {{{functions_block}}}\n",
        "    data {{{data_block}}}\n",
        "    transformed data {{{transformed_data_block}}}\n",
        "    parameters {{{parameters_block}}}\n",
        "    transformed parameters {{{transformed_parameters_block}}}\n",
        "    model {{{model_block}}}\n",
        "    generated quantities {{{generated_quantities_block}}}'''\n",
        "\n",
        "stan_model_str = create_stan_model(generated_quantities_block=\" \")"
      ],
      "execution_count": 78,
      "outputs": []
    },
    {
      "cell_type": "code",
      "metadata": {
        "id": "ffQAVs5kt23C"
      },
      "source": [
        "sm = pystan.StanModel(model_code=stan_model_str, model_name='stan_model')"
      ],
      "execution_count": null,
      "outputs": []
    },
    {
      "cell_type": "code",
      "metadata": {
        "id": "JT3bX-l5ocXx"
      },
      "source": [
        "# avoid recompile if possible\n",
        "with open(model_path, 'wb') as f:\n",
        "    pickle.dump(sm, f)"
      ],
      "execution_count": null,
      "outputs": []
    },
    {
      "cell_type": "code",
      "metadata": {
        "id": "wD_ZZ4pquEND"
      },
      "source": [
        "fit = sm.sampling(data=stan_data, iter=2_000, chains=4, n_jobs=-1,\n",
        "                  sample_file=\"../../data/processed/stan_samples\",\n",
        "                  control={'adapt_delta': 0.85, # p accepting posterior draw\n",
        "                           'stepsize': 1,  # just starting stepsize\n",
        "                          }, \n",
        "                  seed=42, verbose=True)"
      ],
      "execution_count": null,
      "outputs": []
    },
    {
      "cell_type": "code",
      "metadata": {
        "id": "YJXVG5wGhUeI"
      },
      "source": [
        "# for overnight run\n",
        "try:\n",
        "    with open(result_path, 'wb') as f:\n",
        "        pickle.dump(fit, f)\n",
        "# reload saved objects if not reruning sampler\n",
        "except NameError:\n",
        "    with open(model_path, 'rb') as f:\n",
        "        sm = pickle.load(f)\n",
        "    with open(result_path, 'rb') as f:\n",
        "        fit = pickle.load(f)"
      ],
      "execution_count": null,
      "outputs": []
    },
    {
      "cell_type": "markdown",
      "metadata": {
        "id": "hWB3_b-Fx7Dp"
      },
      "source": [
        "## MCMC Diagnostics\n",
        "We will want to check:\n",
        "1. Model actually runs.\n",
        "1. Good Mixing of Chains: (fix with stronger prior, reparameterization)\n",
        "    1. $\\hat{R}$ is 1.1 or under for all parameters.\n",
        "    1. When n_eff / n_transitions < 0.001 the estimators that we use are often biased and can significantly overestimate the true effective sample size.\n",
        "1. Check tree depth:\n",
        "if threshold saturated, increase tree depth _control={max_treedepth: 15}_\n",
        "1. \n",
        "\n",
        "_\n",
        "\n"
      ]
    },
    {
      "cell_type": "code",
      "metadata": {
        "id": "JSPHbBtmns3M"
      },
      "source": [
        "stan_utility.check_all_diagnostics(fit)"
      ],
      "execution_count": null,
      "outputs": []
    },
    {
      "cell_type": "markdown",
      "metadata": {
        "id": "JiBiPS4n-Boz"
      },
      "source": [
        "## Visualization of results"
      ]
    },
    {
      "cell_type": "code",
      "metadata": {
        "id": "O-i-s8UKnjA8"
      },
      "source": [
        "fit_az = az.from_pystan(posterior=fit,\n",
        "                        dims={'beta_reg_snow': ['Coefficients_for_Snow_by_Region'],\n",
        "                              'beta_mo': ['Melting_Coefficients_by_Month']},\n",
        "                        coords={'Coefficients_for_Snow_by_Region': X_region.columns.values.tolist(),\n",
        "                                'Melting_Coefficients_by_Month': [calendar.month_name[i+1] for i in range(12)]}\n",
        "                        )\n",
        "rc = {'plot.max_subplots': None}\n",
        "az.rcParams.update(rc)\n",
        "sns.set_style('whitegrid')\n",
        "az.plot_trace(fit_az)"
      ],
      "execution_count": null,
      "outputs": []
    },
    {
      "cell_type": "code",
      "metadata": {
        "id": "HtAQQbXgoJM4"
      },
      "source": [
        "# fix brackets in col nmaes\n",
        "fit_df = (fit.to_dataframe()\n",
        "          .rename(columns=lambda x: x.replace(\"[\", \"_\"))\n",
        "          .rename(columns=lambda x: x.replace(\"]\", \"\")))\n",
        "\n",
        "fit_df.head()"
      ],
      "execution_count": null,
      "outputs": []
    },
    {
      "cell_type": "code",
      "metadata": {
        "id": "qnInGaRAaRfY"
      },
      "source": [
        "# get region names without \"region_\"\n",
        "region_names = [reg[7:] for reg in X_region.columns.values.tolist()]\n",
        "\n",
        "region_betas_df = fit_df.filter(regex=\"reg\", axis=1)\n",
        "reg_cols = region_betas_df.columns\n",
        "region_betas_df = (region_betas_df\n",
        "                   .rename(columns={col: reg_name for col, reg_name \n",
        "                                    in zip(reg_cols, region_names)})\n",
        "                   .melt(var_name=\"region\"))\n",
        "region_betas_df.head(2)"
      ],
      "execution_count": null,
      "outputs": []
    },
    {
      "cell_type": "code",
      "metadata": {
        "id": "uE97qf4OZxiU"
      },
      "source": [
        "plt.style.use('bmh')\n",
        "fig = sns.kdeplot(x=region_betas_df.value, hue=region_betas_df.region, fill=True, cut=0, bw_adjust=.3)\n",
        "plt.suptitle(\"Estimated Base Increase per Unit of Snowfall\", fontsize=20)\n",
        "plt.xlabel(\"Effect of Unit of Powder\");"
      ],
      "execution_count": null,
      "outputs": []
    },
    {
      "cell_type": "code",
      "metadata": {
        "id": "Z2D_363pltuR"
      },
      "source": [
        "plt.style.use('ggplot')\n",
        "jazzcup = sns.blend_palette(vapeplot.palette(\"jazzcup\"), n_colors=region_betas_df.region.unique().size)\n",
        "f, ax = plt.subplots(figsize=(12, 8))\n",
        "sort_order = region_betas_df.groupby(['region']).mean().sort_values(by='value', ascending=True).index\n",
        "\n",
        "sns.violinplot(x='region', y='value', data=region_betas_df,\n",
        "            order=sort_order, palette=jazzcup)\n",
        "\n",
        "plt.title(\"Estimated Base Increase per Unit of Snowfall: Bayesian Model\", fontsize=20)\n",
        "plt.xlabel('Region')\n",
        "plt.ylabel('Fraction of Full Unit of Powder');"
      ],
      "execution_count": null,
      "outputs": []
    },
    {
      "cell_type": "code",
      "metadata": {
        "id": "twx31uBSsgyN"
      },
      "source": [
        "month_betas_df = fit_df.filter(like='beta_mo').melt(var_name=\"month\")\n",
        "month_betas_df = month_betas_df[month_betas_df.value > month_betas_df.value.quantile(.02)]\n",
        "month_map = {f\"beta_mo_{i}\": calendar.month_abbr[i] for i in range(1, 13)}\n",
        "#month_betas_df['month'] = pd.to_datetime(month_betas_df['month'].replace(month_map), format=\"%B\").dt.month.astype('category')\n",
        "month_betas_df['month'] = month_betas_df['month'].replace(month_map).astype('str')\n",
        "month_betas_df.head()"
      ],
      "execution_count": null,
      "outputs": []
    },
    {
      "cell_type": "code",
      "metadata": {
        "id": "DxXKPQVlt_gB"
      },
      "source": [
        "def plot_snow_betas(df, start_mo):\n",
        "    fig, ax = plt.subplots()\n",
        "    month_ordered = [mo for mo in calendar.month_abbr[1:] if mo in df.month.unique()]\n",
        "    start_mo_ix = month_ordered.index(start_mo)\n",
        "    month_ordered = month_ordered[start_mo_ix:] + month_ordered[:start_mo_ix]\n",
        "    sns.boxplot(data=df, y='value', x='month', order=month_ordered,\n",
        "                ax=ax, )\n",
        "    ax.set_ylabel('Inches Melted per Day')\n",
        "    ax.set_xlabel('Month')\n",
        "    ax.set_title('Estimated Snow Melted per Day by Month');\n",
        "plot_snow_betas(month_betas_df, \"Jan\")"
      ],
      "execution_count": null,
      "outputs": []
    },
    {
      "cell_type": "markdown",
      "metadata": {
        "id": "RPhSA24RJfJD"
      },
      "source": [
        "These estimates are mostly expected, but there seems to be low melting amounts during summer...this can be explained when we realize that most of the values for May-November were interpolated. The averages aren't weighted by ski acreage, so the large number of small ski stations on the east coast & midwest with short seasons are disproportionately affecting these numbers. "
      ]
    },
    {
      "cell_type": "code",
      "metadata": {
        "id": "blPU-QZ4HHce"
      },
      "source": [
        "interpo_ratios=(long_series_df\n",
        "    .assign(month=lambda x: x.pseudo_ts.dt.month)\n",
        "    .groupby('month')\n",
        "    .apply(lambda x: x.basecol_interpolated.sum()/x.shape[0])\n",
        "    .to_frame()\n",
        "    .reset_index()\n",
        "    .rename(columns={0:'ratio'})\n",
        ")\n",
        "fig, ax = plt.subplots()\n",
        "sns.barplot(data=interpo_ratios, x='month', y='ratio', ax=ax)\n",
        "plt.title('Fraction of Base observations that were interpolated', fontsize=15)\n",
        "[plt.text((i-.17), value+.01, str(value)) for i, value in enumerate(interpo_ratios.ratio.round(2).to_numpy())]\n",
        "months_xticks(ax);"
      ],
      "execution_count": null,
      "outputs": []
    },
    {
      "cell_type": "code",
      "metadata": {
        "id": "zhsp01-EJze7"
      },
      "source": [
        "plot_snow_betas(month_betas_df[~month_betas_df.month.isin(['Jun', 'Jul', 'Aug', 'Sep', 'Oct'])], \"Nov\")"
      ],
      "execution_count": null,
      "outputs": []
    },
    {
      "cell_type": "markdown",
      "metadata": {
        "id": "LatVl9EK8ELg"
      },
      "source": [
        "### Check test set metrics"
      ]
    },
    {
      "cell_type": "code",
      "metadata": {
        "id": "9tjQVAuawYuu"
      },
      "source": [
        "stan_model_wtest_str = create_stan_model()\n",
        "sm_wtest = pystan.StanModel(model_code=stan_model_wtest_str, model_name='stan_model_wtest')\n",
        "fit_wtest = sm_wtest.sampling(data=stan_data_test, iter=2_000, chains=4, n_jobs=-1,\n",
        "                  sample_file=\"../../data/processed/stan_samples\",\n",
        "                  control={'adapt_delta': 0.85, # p accepting posterior draw\n",
        "                           'stepsize': 1,  # just starting stepsize\n",
        "                          }, \n",
        "                  seed=42, verbose=True)"
      ],
      "execution_count": null,
      "outputs": []
    },
    {
      "cell_type": "code",
      "metadata": {
        "id": "n7-L230X7ses"
      },
      "source": [
        "y_pred = pd.DataFrame(data=fit_wtest.extract(['y_test'], inc_warmup=False)['y_test'].T.mean(axis=1),\n",
        "                      columns=['y_pred'])\n",
        "test_results = pd.concat([y_test.reset_index(drop=True), y_pred], axis=1)\n",
        "\n",
        "r2_score(y_true=test_results.delta_base, y_pred=test_results.y_pred, )"
      ],
      "execution_count": null,
      "outputs": []
    },
    {
      "cell_type": "code",
      "metadata": {
        "id": "67BUD9Du-z_D"
      },
      "source": [
        "# Aggregate by month and see if r2 is affected\n",
        "y_pred_month_agg = y_pred"
      ],
      "execution_count": null,
      "outputs": []
    },
    {
      "cell_type": "markdown",
      "metadata": {
        "id": "pXz3lIHLbnqQ"
      },
      "source": [
        "# Stan model including ARMA terms\n",
        "I will not be using a seasonal model, since I think using months as predictors is more useful to capture seasonal changes in an interpretable way. However, I do want to caputure ARMA terms to improve model performance."
      ]
    },
    {
      "cell_type": "code",
      "metadata": {
        "id": "u054FjPQ_Bxx",
        "outputId": "11c433e9-8606-4ca3-c17b-6f0d09712fc6",
        "colab": {
          "base_uri": "https://localhost:8080/",
          "height": 167
        }
      },
      "source": [
        "AC_PAC_plotter(df=long_series_df.query('ski_yr==1')[['base']], differences=1)"
      ],
      "execution_count": null,
      "outputs": [
        {
          "output_type": "stream",
          "text": [
            "C:\\Users\\Chris\\Documents\\GitHub\\ski-snow-modeling\\src\\analysis\\project_utils\\project_utils.py:101: FutureWarning: the 'unbiased'' keyword is deprecated, use 'adjusted' instead\n",
            "  zero=True, ax=ax1\n"
          ],
          "name": "stderr"
        },
        {
          "output_type": "display_data",
          "data": {
            "image/png": "[encoded data removed]",
            "text/plain": [
              "<Figure size 792x504 with 2 Axes>"
            ]
          },
          "metadata": {
            "tags": [],
            "image/png": {
              "height": 426,
              "width": 654
            }
          }
        }
      ]
    },
    {
      "cell_type": "markdown",
      "metadata": {
        "id": "ZnzT5L8Yj6en"
      },
      "source": [
        "There is a long decay in the ACF, and a single (not including the 0 lag) positive PACF correlation. This is a classic AR(1) signature, so I will add that to the model. Adding another differencing term might be even better, but then all of the coefficients would lose the usefulness of their interpretability."
      ]
    },
    {
      "cell_type": "code",
      "metadata": {
        "id": "FwmnIHHhj6eo"
      },
      "source": [
        "model_block_vars_ar = model_block_vars + \"\"\"real beta_ar;   // coefficient for AR(1)\"\"\"\n",
        "model_block_eqs_ar = \"\"\"\n",
        "    for (n in 1:K_month) {\n",
        "        beta_mo[n] ~ normal(0, sig_mos) T[,0]; // sample from normal, only -ve\n",
        "    }\n",
        "    // prior on snow columns is beta over [0,1]\n",
        "    beta_reg_snow ~ beta(2.2, 3);\n",
        "    \n",
        "    mu = X_month*beta_mo + X_reg_snow*beta_reg_snow;\n",
        "    y[2:N] ~ normal(mu + y[1:(N - 1)]*beta_ar, sigma);\n",
        "    \"\"\"\n",
        "model_block_ar = model_block_vars_ar + model_block_eqs_ar\n",
        "\n",
        "generated_quantities_ar = \"\"\"\n",
        "    vector[N_test] y_test;\n",
        "    for(n in 2:N_test) {\n",
        "        y_test[n] = normal_rng(X_month_test[n]*beta_mo + X_reg_snow_test[n]*beta_reg_snow + y_test, sigma);\n",
        "    }\n",
        "\"\"\""
      ],
      "execution_count": 75,
      "outputs": []
    },
    {
      "cell_type": "code",
      "metadata": {
        "id": "u9PmB3gHmY3z",
        "outputId": "87c4d996-d6a0-4d37-fdf2-f18b1ea854b4",
        "colab": {
          "base_uri": "https://localhost:8080/",
          "height": 1000
        }
      },
      "source": [
        "stan_model_ar_str = create_stan_model(model_block=model_block_ar)\n",
        "print(stan_model_ar_str)"
      ],
      "execution_count": 79,
      "outputs": [
        {
          "output_type": "stream",
          "text": [
            "\n",
            "    functions {// for function\n",
            "}\n",
            "    data {\n",
            "    // input data passed from Python\n",
            "    int<lower=1> N;               // number of data observations\n",
            "    int<lower=1> K_month;         // no of melting predictor\n",
            "    matrix[N, K_month] X_month;   // predictor for melting features\n",
            "    int<lower=1> K_reg;           // no of region features\n",
            "    matrix[N, K_reg] X_reg;       // region predictors\n",
            "    matrix[N, 1] X_snow;          // snowfall predictor\n",
            "    vector[N] y;                  // response vector\n",
            "    \n",
            "    // test variables\n",
            "    int<lower=1> N_test;                  // no of test records\n",
            "    matrix[N_test, K_month] X_month_test; // predictor for melting features\n",
            "    matrix[N_test, K_reg] X_reg_test;     // region predictors\n",
            "    matrix[N_test, 1] X_snow_test;\n",
            "    }\n",
            "    transformed data {\n",
            "    matrix[N, K_reg] X_reg_snow;\n",
            "    row_vector[N] X_snow_rvect = to_row_vector(X_snow);\n",
            "    matrix[N_test, K_reg] X_reg_snow_test;\n",
            "    row_vector[N_test] X_snow_rvect_test = to_row_vector(X_snow_test);\n",
            "    \n",
            "    for (k in 1:K_reg) {          //  K_regxN * Nx1  T\n",
            "        for (n in 1:N) {\n",
            "            X_reg_snow[n,k] = X_snow_rvect[n] * X_reg[n,k];\n",
            "    }  }\n",
            "    \n",
            "    // same, but for test. Should do this with a function...\n",
            "    for (k in 1:K_reg) {\n",
            "        for (n in 1:N_test) {\n",
            "            X_reg_snow_test[n,k] = X_snow_rvect_test[n] * X_reg_test[n,k];\n",
            "    } }}\n",
            "    parameters {\n",
            "    // intercept was causing divergences and coef interpretation \n",
            "    // makes more sense without intercept: \n",
            "    // I don't expect change in base depth absent melting or snowfall\n",
            "    vector<upper=0>[K_month] beta_mo;           // coefficients for melting\n",
            "    vector<lower=0, upper=1>[K_reg] beta_reg_snow;       // coef for region x snow interaction\n",
            "    real<lower=0> sigma;                        // must be +ve\n",
            "    real<lower=0> sig_mos;                      // must be +ve\n",
            "    }\n",
            "    transformed parameters { }\n",
            "    model {\n",
            "    vector[N] mu;                       // y_hat\n",
            "    real beta_ar;   // coefficient for AR(1)\n",
            "    for (n in 1:K_month) {\n",
            "        beta_mo[n] ~ normal(0, sig_mos) T[,0]; // sample from normal, only -ve\n",
            "    }\n",
            "    // prior on snow columns is beta over [0,1]\n",
            "    beta_reg_snow ~ beta(2.2, 3);\n",
            "    \n",
            "    mu = X_month*beta_mo + X_reg_snow*beta_reg_snow;\n",
            "    y[2:N] ~ normal(mu + y[1:(N - 1)]*beta_ar, sigma);\n",
            "    }\n",
            "    generated quantities {\n",
            "    vector[N_test] y_test;\n",
            "    for(n in 1:N_test) {\n",
            "        y_test[n] = normal_rng(X_month_test[n]*beta_mo + X_reg_snow_test[n]*beta_reg_snow, sigma);\n",
            "    }\n",
            "    }\n"
          ],
          "name": "stdout"
        }
      ]
    },
    {
      "cell_type": "code",
      "metadata": {
        "id": "JzuITDh9b4Hh",
        "outputId": "c84bca63-ead8-4eb3-a3df-d4172c87a233",
        "colab": {
          "base_uri": "https://localhost:8080/",
          "height": 34
        }
      },
      "source": [
        "sm_ar = pystan.StanModel(model_code=stan_model_ar_str, model_name='stan_model_ar')"
      ],
      "execution_count": 80,
      "outputs": [
        {
          "output_type": "stream",
          "text": [
            "INFO:pystan:COMPILING THE C++ CODE FOR MODEL stan_model_ar_a987983899afb8b3d4d01325f1d94bd7 NOW.\n"
          ],
          "name": "stderr"
        }
      ]
    },
    {
      "cell_type": "code",
      "metadata": {
        "id": "KOolGzPvj6et"
      },
      "source": [
        "fit_ar = sm.sampling(data=stan_data, iter=2_000, chains=4, n_jobs=-1,\n",
        "                  sample_file=\"../../data/processed/stan_samples\",\n",
        "                  control={'adapt_delta': 0.85, # p accepting posterior draw\n",
        "                           'stepsize': 1,  # just starting stepsize\n",
        "                          }, \n",
        "                  seed=42, verbose=True)"
      ],
      "execution_count": null,
      "outputs": []
    }
  ]
}