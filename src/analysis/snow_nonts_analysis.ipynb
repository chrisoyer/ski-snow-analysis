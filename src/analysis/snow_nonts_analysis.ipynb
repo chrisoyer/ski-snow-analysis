{
  "nbformat": 4,
  "nbformat_minor": 0,
  "metadata": {
    "kernelspec": {
      "display_name": "ski_proj",
      "language": "python",
      "name": "ski_proj"
    },
    "language_info": {
      "codemirror_mode": {
        "name": "ipython",
        "version": 3
      },
      "file_extension": ".py",
      "mimetype": "text/x-python",
      "name": "python",
      "nbconvert_exporter": "python",
      "pygments_lexer": "ipython3",
      "version": "3.7.4"
    },
    "varInspector": {
      "cols": {
        "lenName": 16,
        "lenType": 16,
        "lenVar": 40
      },
      "kernels_config": {
        "python": {
          "delete_cmd_postfix": "",
          "delete_cmd_prefix": "del ",
          "library": "var_list.py",
          "varRefreshCmd": "print(var_dic_list())"
        },
        "r": {
          "delete_cmd_postfix": ") ",
          "delete_cmd_prefix": "rm(",
          "library": "var_list.r",
          "varRefreshCmd": "cat(var_dic_list()) "
        }
      },
      "types_to_exclude": [
        "module",
        "function",
        "builtin_function_or_method",
        "instance",
        "_Feature"
      ],
      "window_display": false
    },
    "colab": {
      "name": "snow_nonts_analysis.ipynb",
      "provenance": []
    }
  },
  "cells": [
    {
      "cell_type": "markdown",
      "metadata": {
        "id": "XCGOsNC1F6EV",
        "colab_type": "text"
      },
      "source": [
        "# Description\n",
        "This will focus on using classic regression models to model the data, instead of time series methods. \n",
        "\n",
        "#### NOTE: As described in EDA notebook, \"Pseudo_ts\" is concatenation of data from locally adjacent ski resorts (e.g., all resorts in Colorado) into a single timeseries.\n",
        "# Imports"
      ]
    },
    {
      "cell_type": "code",
      "metadata": {
        "id": "5hkRrNSaGDae",
        "colab_type": "code",
        "colab": {
          "base_uri": "https://localhost:8080/",
          "height": 565
        },
        "outputId": "bd58010f-aa31-47c3-d736-3e80a6a2f4fe"
      },
      "source": [
        "! pip install arviz pystan stan_utility"
      ],
      "execution_count": 1,
      "outputs": [
        {
          "output_type": "stream",
          "text": [
            "Collecting arviz\n",
            "\u001b[?25l  Downloading https://files.pythonhosted.org/packages/d2/ed/2f9d0217fac295b3dd158195060e5350c1c9a2abcba04030a426a15fd908/arviz-0.9.0-py3-none-any.whl (1.5MB)\n",
            "\u001b[K     |████████████████████████████████| 1.5MB 2.7MB/s \n",
            "\u001b[?25hRequirement already satisfied: pystan in /usr/local/lib/python3.6/dist-packages (2.19.1.1)\n",
            "Collecting stan_utility\n",
            "  Downloading https://files.pythonhosted.org/packages/b3/80/44ea5cb90508eda677e1a5635d687c00481a8b1d26671278f764e7ccd8cf/stan_utility-0.1.2-py2.py3-none-any.whl\n",
            "Requirement already satisfied: matplotlib>=3.0 in /usr/local/lib/python3.6/dist-packages (from arviz) (3.2.2)\n",
            "Collecting netcdf4\n",
            "\u001b[?25l  Downloading https://files.pythonhosted.org/packages/09/39/3687b2ba762a709cd97e48dfaf3ae36a78ae603ec3d1487f767ad58a7b2e/netCDF4-1.5.4-cp36-cp36m-manylinux1_x86_64.whl (4.3MB)\n",
            "\u001b[K     |████████████████████████████████| 4.3MB 2.6MB/s \n",
            "\u001b[?25hRequirement already satisfied: scipy>=0.19 in /usr/local/lib/python3.6/dist-packages (from arviz) (1.4.1)\n",
            "Requirement already satisfied: numpy>=1.12 in /usr/local/lib/python3.6/dist-packages (from arviz) (1.18.5)\n",
            "Requirement already satisfied: pandas>=0.23 in /usr/local/lib/python3.6/dist-packages (from arviz) (1.0.5)\n",
            "Requirement already satisfied: packaging in /usr/local/lib/python3.6/dist-packages (from arviz) (20.4)\n",
            "Requirement already satisfied: xarray>=0.11 in /usr/local/lib/python3.6/dist-packages (from arviz) (0.15.1)\n",
            "Requirement already satisfied: Cython!=0.25.1,>=0.22 in /usr/local/lib/python3.6/dist-packages (from pystan) (0.29.21)\n",
            "Requirement already satisfied: h5py in /usr/local/lib/python3.6/dist-packages (from stan_utility) (2.10.0)\n",
            "Requirement already satisfied: kiwisolver>=1.0.1 in /usr/local/lib/python3.6/dist-packages (from matplotlib>=3.0->arviz) (1.2.0)\n",
            "Requirement already satisfied: python-dateutil>=2.1 in /usr/local/lib/python3.6/dist-packages (from matplotlib>=3.0->arviz) (2.8.1)\n",
            "Requirement already satisfied: cycler>=0.10 in /usr/local/lib/python3.6/dist-packages (from matplotlib>=3.0->arviz) (0.10.0)\n",
            "Requirement already satisfied: pyparsing!=2.0.4,!=2.1.2,!=2.1.6,>=2.0.1 in /usr/local/lib/python3.6/dist-packages (from matplotlib>=3.0->arviz) (2.4.7)\n",
            "Collecting cftime\n",
            "\u001b[?25l  Downloading https://files.pythonhosted.org/packages/81/f4/31cb9b65f462ea960bd334c5466313cb7b8af792f272546b68b7868fccd4/cftime-1.2.1-cp36-cp36m-manylinux1_x86_64.whl (287kB)\n",
            "\u001b[K     |████████████████████████████████| 296kB 35.1MB/s \n",
            "\u001b[?25hRequirement already satisfied: pytz>=2017.2 in /usr/local/lib/python3.6/dist-packages (from pandas>=0.23->arviz) (2018.9)\n",
            "Requirement already satisfied: six in /usr/local/lib/python3.6/dist-packages (from packaging->arviz) (1.15.0)\n",
            "Requirement already satisfied: setuptools>=41.2 in /usr/local/lib/python3.6/dist-packages (from xarray>=0.11->arviz) (50.3.0)\n",
            "Installing collected packages: cftime, netcdf4, arviz, stan-utility\n",
            "Successfully installed arviz-0.9.0 cftime-1.2.1 netcdf4-1.5.4 stan-utility-0.1.2\n"
          ],
          "name": "stdout"
        }
      ]
    },
    {
      "cell_type": "code",
      "metadata": {
        "id": "TNlQEkolNSWR",
        "colab_type": "code",
        "colab": {
          "base_uri": "https://localhost:8080/",
          "height": 110
        },
        "outputId": "1c994b67-17e3-4023-ad01-37dbc47bf4fa"
      },
      "source": [
        "try:\n",
        "    import google.colab\n",
        "    IN_COLAB = True\n",
        "except:\n",
        "    IN_COLAB = False\n",
        "\n",
        "if IN_COLAB:\n",
        "    import os\n",
        "    from google.colab import drive\n",
        "    drive.mount('/content/gdrive')\n",
        "    base_path = r'/content/gdrive/My Drive/data_sci/colab/ski/'\n",
        "    os.chdir(base_path)\n",
        "    try:\n",
        "        ! git clone https://github.com/chrisoyer/ski-snow-modeling/\n",
        "    except:  # if dir not empty e.g. already cloned\n",
        "        pass\n",
        "    mod_path = os.path.join(base_path, \n",
        "                            r\"ski-snow-modeling/src/analysis/project_utils/project_utils.py\")\n",
        "    import importlib.util\n",
        "    spec = importlib.util.spec_from_file_location(name=\"utils.name\", location=mod_path)\n",
        "    utils = importlib.util.module_from_spec(spec)\n",
        "    spec.loader.exec_module(utils)\n",
        "    \n",
        "    os.chdir('./ski-snow-modeling/')\n",
        "    # Change the working directory to the repo root.\n",
        "    # Add the repo root to the Python path.\n",
        "    import sys\n",
        "    sys.path.append(os.getcwd())\n",
        "else:\n",
        "    # local running\n",
        "    import project_utils as utils"
      ],
      "execution_count": 2,
      "outputs": [
        {
          "output_type": "stream",
          "text": [
            "Mounted at /content/gdrive\n",
            "fatal: destination path 'ski-snow-modeling' already exists and is not an empty directory.\n"
          ],
          "name": "stdout"
        },
        {
          "output_type": "stream",
          "text": [
            "/usr/local/lib/python3.6/dist-packages/statsmodels/tools/_testing.py:19: FutureWarning: pandas.util.testing is deprecated. Use the functions in the public API at pandas.testing instead.\n",
            "  import pandas.util.testing as tm\n"
          ],
          "name": "stderr"
        }
      ]
    },
    {
      "cell_type": "code",
      "metadata": {
        "id": "h7TktoEhF6EX",
        "colab_type": "code",
        "colab": {}
      },
      "source": [
        "# data wrangling\n",
        "import numpy as np\n",
        "import pandas as pd\n",
        "import os.path\n",
        "from sklearn.preprocessing import MinMaxScaler\n",
        "from scipy import stats\n",
        "import pickle\n",
        "\n",
        "# viz\n",
        "import matplotlib.pyplot as plt\n",
        "%matplotlib inline\n",
        "import seaborn as sns\n",
        "import arviz as az\n",
        "\n",
        "# modeling\n",
        "from sklearn.model_selection import train_test_split\n",
        "from sklearn.ensemble import RandomForestRegressor\n",
        "from sklearn.linear_model import ElasticNetCV\n",
        "import pystan\n",
        "import stan_utility\n",
        "\n",
        "%load_ext autoreload\n",
        "%autoreload 2"
      ],
      "execution_count": 3,
      "outputs": []
    },
    {
      "cell_type": "markdown",
      "metadata": {
        "id": "ed5zssxrF6Eb",
        "colab_type": "text"
      },
      "source": [
        "# Parameters"
      ]
    },
    {
      "cell_type": "code",
      "metadata": {
        "id": "1VZB7OgpF6Ec",
        "colab_type": "code",
        "colab": {}
      },
      "source": [
        "%config InlineBackend.figure_format = 'retina'\n",
        "plt.style.use('seaborn')\n",
        "plt.rc('figure', figsize=(11.0, 7.0))"
      ],
      "execution_count": 4,
      "outputs": []
    },
    {
      "cell_type": "markdown",
      "metadata": {
        "id": "qZtJblGFF6Eg",
        "colab_type": "text"
      },
      "source": [
        "# Load Data"
      ]
    },
    {
      "cell_type": "code",
      "metadata": {
        "id": "lndHvFjsF6Eh",
        "colab_type": "code",
        "colab": {}
      },
      "source": [
        "file_path = r'data/snow_data_clean.parquet'\n",
        "all_data_path = os.path.join(os.getcwd(), file_path)"
      ],
      "execution_count": 5,
      "outputs": []
    },
    {
      "cell_type": "code",
      "metadata": {
        "id": "jiLDY-_dF6Ek",
        "colab_type": "code",
        "colab": {
          "base_uri": "https://localhost:8080/",
          "height": 323
        },
        "outputId": "2c14314f-9bab-4b3b-c2f6-8ef89082a131"
      },
      "source": [
        "# parquet opening is broken on colab\n",
        "with open(all_data_path, 'rb') as parq_file:\n",
        "    long_series_df = pd.read_parquet(parq_file)\n",
        "assert long_series_df.base.isna().sum()==0\n",
        "month_ts_df = long_series_df.pipe(utils.resample_by_month, time_col='pseudo_ts')\n",
        "# start analysis with just CO resorts\n",
        "co_base_ts = (month_ts_df\n",
        "              .query('state==\"colorado\"')\n",
        "              .sort_values(by='pseudo_ts')\n",
        "              .dropna(how='all')\n",
        "             )\n",
        "long_series_df.head()"
      ],
      "execution_count": 6,
      "outputs": [
        {
          "output_type": "stream",
          "text": [
            "INFO:numexpr.utils:NumExpr defaulting to 2 threads.\n"
          ],
          "name": "stderr"
        },
        {
          "output_type": "execute_result",
          "data": {
            "text/html": [
              "<div>\n",
              "<style scoped>\n",
              "    .dataframe tbody tr th:only-of-type {\n",
              "        vertical-align: middle;\n",
              "    }\n",
              "\n",
              "    .dataframe tbody tr th {\n",
              "        vertical-align: top;\n",
              "    }\n",
              "\n",
              "    .dataframe thead th {\n",
              "        text-align: right;\n",
              "    }\n",
              "</style>\n",
              "<table border=\"1\" class=\"dataframe\">\n",
              "  <thead>\n",
              "    <tr style=\"text-align: right;\">\n",
              "      <th></th>\n",
              "      <th>dayofyr</th>\n",
              "      <th>timestamp</th>\n",
              "      <th>base</th>\n",
              "      <th>station</th>\n",
              "      <th>snowfall</th>\n",
              "      <th>ski_yr</th>\n",
              "      <th>state</th>\n",
              "      <th>region</th>\n",
              "      <th>pseudo_ts_delt</th>\n",
              "      <th>pseudo_ski_yr</th>\n",
              "      <th>pseudo_ts</th>\n",
              "      <th>basecol_interpolated</th>\n",
              "    </tr>\n",
              "  </thead>\n",
              "  <tbody>\n",
              "    <tr>\n",
              "      <th>11085</th>\n",
              "      <td>137.0</td>\n",
              "      <td>2016-01-10</td>\n",
              "      <td>0.000000</td>\n",
              "      <td>Mt. Holiday</td>\n",
              "      <td>2.0</td>\n",
              "      <td>5.0</td>\n",
              "      <td>michigan</td>\n",
              "      <td>Other</td>\n",
              "      <td>324.0</td>\n",
              "      <td>-31.0</td>\n",
              "      <td>1692-01-10</td>\n",
              "      <td>True</td>\n",
              "    </tr>\n",
              "    <tr>\n",
              "      <th>11086</th>\n",
              "      <td>138.0</td>\n",
              "      <td>2016-01-11</td>\n",
              "      <td>-2.320142</td>\n",
              "      <td>Mt. Holiday</td>\n",
              "      <td>3.0</td>\n",
              "      <td>5.0</td>\n",
              "      <td>michigan</td>\n",
              "      <td>Other</td>\n",
              "      <td>324.0</td>\n",
              "      <td>-31.0</td>\n",
              "      <td>1692-01-11</td>\n",
              "      <td>True</td>\n",
              "    </tr>\n",
              "    <tr>\n",
              "      <th>11087</th>\n",
              "      <td>139.0</td>\n",
              "      <td>2016-01-12</td>\n",
              "      <td>-2.320142</td>\n",
              "      <td>Mt. Holiday</td>\n",
              "      <td>5.0</td>\n",
              "      <td>5.0</td>\n",
              "      <td>michigan</td>\n",
              "      <td>Other</td>\n",
              "      <td>324.0</td>\n",
              "      <td>-31.0</td>\n",
              "      <td>1692-01-12</td>\n",
              "      <td>True</td>\n",
              "    </tr>\n",
              "    <tr>\n",
              "      <th>11088</th>\n",
              "      <td>140.0</td>\n",
              "      <td>2016-01-13</td>\n",
              "      <td>6.737995</td>\n",
              "      <td>Mt. Holiday</td>\n",
              "      <td>0.0</td>\n",
              "      <td>5.0</td>\n",
              "      <td>michigan</td>\n",
              "      <td>Other</td>\n",
              "      <td>324.0</td>\n",
              "      <td>-31.0</td>\n",
              "      <td>1692-01-13</td>\n",
              "      <td>False</td>\n",
              "    </tr>\n",
              "    <tr>\n",
              "      <th>11089</th>\n",
              "      <td>141.0</td>\n",
              "      <td>2016-01-14</td>\n",
              "      <td>10.000000</td>\n",
              "      <td>Mt. Holiday</td>\n",
              "      <td>0.0</td>\n",
              "      <td>5.0</td>\n",
              "      <td>michigan</td>\n",
              "      <td>Other</td>\n",
              "      <td>324.0</td>\n",
              "      <td>-31.0</td>\n",
              "      <td>1692-01-14</td>\n",
              "      <td>False</td>\n",
              "    </tr>\n",
              "  </tbody>\n",
              "</table>\n",
              "</div>"
            ],
            "text/plain": [
              "       dayofyr  timestamp  ...  pseudo_ts basecol_interpolated\n",
              "11085    137.0 2016-01-10  ... 1692-01-10                 True\n",
              "11086    138.0 2016-01-11  ... 1692-01-11                 True\n",
              "11087    139.0 2016-01-12  ... 1692-01-12                 True\n",
              "11088    140.0 2016-01-13  ... 1692-01-13                False\n",
              "11089    141.0 2016-01-14  ... 1692-01-14                False\n",
              "\n",
              "[5 rows x 12 columns]"
            ]
          },
          "metadata": {
            "tags": []
          },
          "execution_count": 6
        }
      ]
    },
    {
      "cell_type": "markdown",
      "metadata": {
        "id": "Vfg37-k3F6En",
        "colab_type": "text"
      },
      "source": [
        "# Feature Engineering"
      ]
    },
    {
      "cell_type": "code",
      "metadata": {
        "id": "dcKhhazNF6En",
        "colab_type": "code",
        "colab": {}
      },
      "source": [
        "def add_month(data: pd.DataFrame) -> pd.DataFrame:\n",
        "    return data.assign(month=lambda x:\n",
        "                       x.pseudo_ts.dt.month)\n",
        "\n",
        "def add_diff(data: pd.DataFrame) -> pd.DataFrame:\n",
        "    return (data\n",
        "            .assign(delta_base=lambda x: x.base.diff(1))\n",
        "            .fillna(0)\n",
        "            .drop(columns=['base'])\n",
        "           )\n",
        "\n",
        "def ohe(data: pd.DataFrame, col: str) -> pd.DataFrame:\n",
        "    return pd.concat([data.drop(columns=[col]),\n",
        "                      pd.get_dummies(data[col],\n",
        "                                     prefix=col)],\n",
        "                     axis=1)\n",
        "\n",
        "def add_month_x_snowfall(data: pd.DataFrame) -> pd.DataFrame:\n",
        "    months = [col for col in data.columns\n",
        "              if 'month_' in col]\n",
        "    combos_df = pd.concat([pd.Series(data.snowfall * data[month],\n",
        "                                     name='snowfall_x_' + month)\n",
        "                           for month in months], axis=1)\n",
        "    return pd.concat([data, combos_df], axis=1)\n",
        "\n",
        "def cleaner(data: pd.DataFrame) -> pd.DataFrame:\n",
        "    \"\"\"ski_yr is needed for test/train split\"\"\"\n",
        "    data = data.query('basecol_interpolated==True')\n",
        "    bad_cols = ['dayofyr', 'station', 'state', 'pseudo_ski_yr',\n",
        "                'timestamp', 'basecol_interpolated', 'pseudo_ts',\n",
        "                'pseudo_ts_delt'\n",
        "               ]\n",
        "    return data.drop(columns=bad_cols)"
      ],
      "execution_count": 7,
      "outputs": []
    },
    {
      "cell_type": "code",
      "metadata": {
        "scrolled": false,
        "id": "AI5Yw01cF6Er",
        "colab_type": "code",
        "colab": {
          "base_uri": "https://localhost:8080/",
          "height": 218
        },
        "outputId": "6e9b0743-424f-46dd-ed3c-0e92afc7e629"
      },
      "source": [
        "data = (long_series_df.pipe(add_month)\n",
        "        .pipe(add_diff)\n",
        "        #.pipe(ohe, 'region')\n",
        "        .pipe(ohe, 'month')\n",
        "        .pipe(add_month_x_snowfall)\n",
        "        .pipe(cleaner)\n",
        ")\n",
        "data.head()"
      ],
      "execution_count": 8,
      "outputs": [
        {
          "output_type": "execute_result",
          "data": {
            "text/html": [
              "<div>\n",
              "<style scoped>\n",
              "    .dataframe tbody tr th:only-of-type {\n",
              "        vertical-align: middle;\n",
              "    }\n",
              "\n",
              "    .dataframe tbody tr th {\n",
              "        vertical-align: top;\n",
              "    }\n",
              "\n",
              "    .dataframe thead th {\n",
              "        text-align: right;\n",
              "    }\n",
              "</style>\n",
              "<table border=\"1\" class=\"dataframe\">\n",
              "  <thead>\n",
              "    <tr style=\"text-align: right;\">\n",
              "      <th></th>\n",
              "      <th>snowfall</th>\n",
              "      <th>ski_yr</th>\n",
              "      <th>region</th>\n",
              "      <th>delta_base</th>\n",
              "      <th>month_1</th>\n",
              "      <th>month_2</th>\n",
              "      <th>month_3</th>\n",
              "      <th>month_4</th>\n",
              "      <th>month_5</th>\n",
              "      <th>month_6</th>\n",
              "      <th>month_7</th>\n",
              "      <th>month_8</th>\n",
              "      <th>month_9</th>\n",
              "      <th>month_10</th>\n",
              "      <th>month_11</th>\n",
              "      <th>month_12</th>\n",
              "      <th>snowfall_x_month_1</th>\n",
              "      <th>snowfall_x_month_2</th>\n",
              "      <th>snowfall_x_month_3</th>\n",
              "      <th>snowfall_x_month_4</th>\n",
              "      <th>snowfall_x_month_5</th>\n",
              "      <th>snowfall_x_month_6</th>\n",
              "      <th>snowfall_x_month_7</th>\n",
              "      <th>snowfall_x_month_8</th>\n",
              "      <th>snowfall_x_month_9</th>\n",
              "      <th>snowfall_x_month_10</th>\n",
              "      <th>snowfall_x_month_11</th>\n",
              "      <th>snowfall_x_month_12</th>\n",
              "    </tr>\n",
              "  </thead>\n",
              "  <tbody>\n",
              "    <tr>\n",
              "      <th>11085</th>\n",
              "      <td>2.0</td>\n",
              "      <td>5.0</td>\n",
              "      <td>Other</td>\n",
              "      <td>0.000000</td>\n",
              "      <td>1</td>\n",
              "      <td>0</td>\n",
              "      <td>0</td>\n",
              "      <td>0</td>\n",
              "      <td>0</td>\n",
              "      <td>0</td>\n",
              "      <td>0</td>\n",
              "      <td>0</td>\n",
              "      <td>0</td>\n",
              "      <td>0</td>\n",
              "      <td>0</td>\n",
              "      <td>0</td>\n",
              "      <td>2.0</td>\n",
              "      <td>0.0</td>\n",
              "      <td>0.0</td>\n",
              "      <td>0.0</td>\n",
              "      <td>0.0</td>\n",
              "      <td>0.0</td>\n",
              "      <td>0.0</td>\n",
              "      <td>0.0</td>\n",
              "      <td>0.0</td>\n",
              "      <td>0.0</td>\n",
              "      <td>0.0</td>\n",
              "      <td>0.0</td>\n",
              "    </tr>\n",
              "    <tr>\n",
              "      <th>11086</th>\n",
              "      <td>3.0</td>\n",
              "      <td>5.0</td>\n",
              "      <td>Other</td>\n",
              "      <td>-2.320142</td>\n",
              "      <td>1</td>\n",
              "      <td>0</td>\n",
              "      <td>0</td>\n",
              "      <td>0</td>\n",
              "      <td>0</td>\n",
              "      <td>0</td>\n",
              "      <td>0</td>\n",
              "      <td>0</td>\n",
              "      <td>0</td>\n",
              "      <td>0</td>\n",
              "      <td>0</td>\n",
              "      <td>0</td>\n",
              "      <td>3.0</td>\n",
              "      <td>0.0</td>\n",
              "      <td>0.0</td>\n",
              "      <td>0.0</td>\n",
              "      <td>0.0</td>\n",
              "      <td>0.0</td>\n",
              "      <td>0.0</td>\n",
              "      <td>0.0</td>\n",
              "      <td>0.0</td>\n",
              "      <td>0.0</td>\n",
              "      <td>0.0</td>\n",
              "      <td>0.0</td>\n",
              "    </tr>\n",
              "    <tr>\n",
              "      <th>11087</th>\n",
              "      <td>5.0</td>\n",
              "      <td>5.0</td>\n",
              "      <td>Other</td>\n",
              "      <td>0.000000</td>\n",
              "      <td>1</td>\n",
              "      <td>0</td>\n",
              "      <td>0</td>\n",
              "      <td>0</td>\n",
              "      <td>0</td>\n",
              "      <td>0</td>\n",
              "      <td>0</td>\n",
              "      <td>0</td>\n",
              "      <td>0</td>\n",
              "      <td>0</td>\n",
              "      <td>0</td>\n",
              "      <td>0</td>\n",
              "      <td>5.0</td>\n",
              "      <td>0.0</td>\n",
              "      <td>0.0</td>\n",
              "      <td>0.0</td>\n",
              "      <td>0.0</td>\n",
              "      <td>0.0</td>\n",
              "      <td>0.0</td>\n",
              "      <td>0.0</td>\n",
              "      <td>0.0</td>\n",
              "      <td>0.0</td>\n",
              "      <td>0.0</td>\n",
              "      <td>0.0</td>\n",
              "    </tr>\n",
              "    <tr>\n",
              "      <th>31350</th>\n",
              "      <td>0.0</td>\n",
              "      <td>5.0</td>\n",
              "      <td>Other</td>\n",
              "      <td>-1.652098</td>\n",
              "      <td>0</td>\n",
              "      <td>1</td>\n",
              "      <td>0</td>\n",
              "      <td>0</td>\n",
              "      <td>0</td>\n",
              "      <td>0</td>\n",
              "      <td>0</td>\n",
              "      <td>0</td>\n",
              "      <td>0</td>\n",
              "      <td>0</td>\n",
              "      <td>0</td>\n",
              "      <td>0</td>\n",
              "      <td>0.0</td>\n",
              "      <td>0.0</td>\n",
              "      <td>0.0</td>\n",
              "      <td>0.0</td>\n",
              "      <td>0.0</td>\n",
              "      <td>0.0</td>\n",
              "      <td>0.0</td>\n",
              "      <td>0.0</td>\n",
              "      <td>0.0</td>\n",
              "      <td>0.0</td>\n",
              "      <td>0.0</td>\n",
              "      <td>0.0</td>\n",
              "    </tr>\n",
              "    <tr>\n",
              "      <th>31351</th>\n",
              "      <td>0.0</td>\n",
              "      <td>5.0</td>\n",
              "      <td>Other</td>\n",
              "      <td>0.000001</td>\n",
              "      <td>0</td>\n",
              "      <td>1</td>\n",
              "      <td>0</td>\n",
              "      <td>0</td>\n",
              "      <td>0</td>\n",
              "      <td>0</td>\n",
              "      <td>0</td>\n",
              "      <td>0</td>\n",
              "      <td>0</td>\n",
              "      <td>0</td>\n",
              "      <td>0</td>\n",
              "      <td>0</td>\n",
              "      <td>0.0</td>\n",
              "      <td>0.0</td>\n",
              "      <td>0.0</td>\n",
              "      <td>0.0</td>\n",
              "      <td>0.0</td>\n",
              "      <td>0.0</td>\n",
              "      <td>0.0</td>\n",
              "      <td>0.0</td>\n",
              "      <td>0.0</td>\n",
              "      <td>0.0</td>\n",
              "      <td>0.0</td>\n",
              "      <td>0.0</td>\n",
              "    </tr>\n",
              "  </tbody>\n",
              "</table>\n",
              "</div>"
            ],
            "text/plain": [
              "       snowfall  ski_yr  ... snowfall_x_month_11  snowfall_x_month_12\n",
              "11085       2.0     5.0  ...                 0.0                  0.0\n",
              "11086       3.0     5.0  ...                 0.0                  0.0\n",
              "11087       5.0     5.0  ...                 0.0                  0.0\n",
              "31350       0.0     5.0  ...                 0.0                  0.0\n",
              "31351       0.0     5.0  ...                 0.0                  0.0\n",
              "\n",
              "[5 rows x 28 columns]"
            ]
          },
          "metadata": {
            "tags": []
          },
          "execution_count": 8
        }
      ]
    },
    {
      "cell_type": "markdown",
      "metadata": {
        "id": "bIuV0jCmF6Ev",
        "colab_type": "text"
      },
      "source": [
        "# Modeling\n",
        "\n",
        "The evolution of snow base depth over time depends (not 1:1; a foot of powder is only a few inches of packed powder) on new snowfall and melting of old snow. I will start by modeling as a simple timeseries, and then include new snowfall as a predictor variable."
      ]
    },
    {
      "cell_type": "markdown",
      "metadata": {
        "id": "I2aUU77XF6Ew",
        "colab_type": "text"
      },
      "source": [
        "## Modeling Setup\n",
        "I will use regular cross validation."
      ]
    },
    {
      "cell_type": "code",
      "metadata": {
        "scrolled": true,
        "id": "dCsDgxfLF6Ex",
        "colab_type": "code",
        "colab": {}
      },
      "source": [
        "def split_xy(df: pd.DataFrame) -> (np.array, np.array):\n",
        "    \"\"\"splits data into X and y arrays\n",
        "    drops columns used in train_test_split before this func\"\"\"\n",
        "    df = df.drop(columns=['ski_yr', 'region'])\n",
        "    return (df.drop(columns=['delta_base']).to_numpy(),\n",
        "            df.delta_base.to_numpy().reshape(-1))\n",
        "\n",
        "\n",
        "def train_test_split(data: pd.DataFrame) -> (np.array, np.array, np.array, np.array):\n",
        "    \"\"\"splits data\n",
        "    Output: (X_train, y_train, X_test, y_test)\n",
        "    \"\"\"\n",
        "    train, test = data.query(\"ski_yr!=8\"), data.query(\"ski_yr==8\")\n",
        "    return (*split_xy(train), *split_xy(test))"
      ],
      "execution_count": 9,
      "outputs": []
    },
    {
      "cell_type": "code",
      "metadata": {
        "id": "CgQwdI5vF6E0",
        "colab_type": "code",
        "colab": {}
      },
      "source": [
        "def get_results(data: pd.DataFrame, region: str, \n",
        "                include_resids: bool=False) -> pd.DataFrame:\n",
        "    \"\"\"splits data, trains model for region, and puts results into dataframe\n",
        "    Arguments:\n",
        "        data: dataframe with X & y\n",
        "        region: region to look at\n",
        "        include_resids: if all y & ŷ instances should be returned inside the dataframe\n",
        "            WARNING: increases size of df greatly\n",
        "    Returns: dataframe \"\"\"\n",
        "    X_train, y_train, X_test, y_test = train_test_split(data)\n",
        "    lin_regr = ElasticNetCV(cv=5)\n",
        "    \n",
        "    lin_regr.fit(X_train, y_train)\n",
        "    y_hat_test = lin_regr.predict(X_test)\n",
        "    lin_resid = y_test - y_hat_test\n",
        "    results = {}\n",
        "    results['r2'] = lin_regr.score(X_test, y_test)\n",
        "    lin_regr_resids = pd.DataFrame(lin_resid)\n",
        "    results['mse'] = (lin_regr_resids**2).sum()[0]\n",
        "    results['mae'] = lin_regr_resids.sum().abs()[0]\n",
        "    results_df = pd.DataFrame(results, index=[region])\n",
        "    col_list = [c for c in data.columns \n",
        "                if c not in ['ski_yr', 'region', 'delta_base']]\n",
        "    coefs_df = pd.DataFrame(data=lin_regr.coef_.reshape(1,-1), \n",
        "                            columns=col_list, index=[region])\n",
        "    results_df = pd.concat([results_df, coefs_df], axis=1)\n",
        "    if include_resids:\n",
        "        results_df['y'] = pd.Series(data=None, dtype='object', name='y')\n",
        "        results_df['y_hat'] = pd.Series(data=None, dtype='object', name='y_hat')\n",
        "        results_df.at[region, 'y_hat'] = [y_hat_test]\n",
        "        results_df.at[region, 'y'] = [y_test]\n",
        "    return results_df"
      ],
      "execution_count": 10,
      "outputs": []
    },
    {
      "cell_type": "code",
      "metadata": {
        "id": "VB9VPgnOF6E3",
        "colab_type": "code",
        "colab": {}
      },
      "source": [
        "colo = (get_results(data[data.region==\"Colorado\"], 'Colorado'))"
      ],
      "execution_count": 11,
      "outputs": []
    },
    {
      "cell_type": "code",
      "metadata": {
        "scrolled": false,
        "id": "-44ClzrGF6E6",
        "colab_type": "code",
        "colab": {}
      },
      "source": [
        "regional_regression = pd.concat([get_results(data.query(\"region==@region\"), \n",
        "                                             region, include_resids=True)\n",
        "                                 for region in data.region.unique()])"
      ],
      "execution_count": 12,
      "outputs": []
    },
    {
      "cell_type": "code",
      "metadata": {
        "id": "BYhofQXaF6E_",
        "colab_type": "code",
        "colab": {
          "base_uri": "https://localhost:8080/",
          "height": 98
        },
        "outputId": "1da4c026-04e1-470c-d319-5d244fa9044c"
      },
      "source": [
        "result = regional_regression.drop(columns=['y', 'y_hat']).mean().to_frame().T\n",
        "result"
      ],
      "execution_count": 13,
      "outputs": [
        {
          "output_type": "execute_result",
          "data": {
            "text/html": [
              "<div>\n",
              "<style scoped>\n",
              "    .dataframe tbody tr th:only-of-type {\n",
              "        vertical-align: middle;\n",
              "    }\n",
              "\n",
              "    .dataframe tbody tr th {\n",
              "        vertical-align: top;\n",
              "    }\n",
              "\n",
              "    .dataframe thead th {\n",
              "        text-align: right;\n",
              "    }\n",
              "</style>\n",
              "<table border=\"1\" class=\"dataframe\">\n",
              "  <thead>\n",
              "    <tr style=\"text-align: right;\">\n",
              "      <th></th>\n",
              "      <th>r2</th>\n",
              "      <th>mse</th>\n",
              "      <th>mae</th>\n",
              "      <th>snowfall</th>\n",
              "      <th>month_1</th>\n",
              "      <th>month_2</th>\n",
              "      <th>month_3</th>\n",
              "      <th>month_4</th>\n",
              "      <th>month_5</th>\n",
              "      <th>month_6</th>\n",
              "      <th>month_7</th>\n",
              "      <th>month_8</th>\n",
              "      <th>month_9</th>\n",
              "      <th>month_10</th>\n",
              "      <th>month_11</th>\n",
              "      <th>month_12</th>\n",
              "      <th>snowfall_x_month_1</th>\n",
              "      <th>snowfall_x_month_2</th>\n",
              "      <th>snowfall_x_month_3</th>\n",
              "      <th>snowfall_x_month_4</th>\n",
              "      <th>snowfall_x_month_5</th>\n",
              "      <th>snowfall_x_month_6</th>\n",
              "      <th>snowfall_x_month_7</th>\n",
              "      <th>snowfall_x_month_8</th>\n",
              "      <th>snowfall_x_month_9</th>\n",
              "      <th>snowfall_x_month_10</th>\n",
              "      <th>snowfall_x_month_11</th>\n",
              "      <th>snowfall_x_month_12</th>\n",
              "    </tr>\n",
              "  </thead>\n",
              "  <tbody>\n",
              "    <tr>\n",
              "      <th>0</th>\n",
              "      <td>0.115945</td>\n",
              "      <td>17167.100144</td>\n",
              "      <td>157.711893</td>\n",
              "      <td>0.003193</td>\n",
              "      <td>0.115638</td>\n",
              "      <td>0.076826</td>\n",
              "      <td>-0.026375</td>\n",
              "      <td>-0.102577</td>\n",
              "      <td>-0.432486</td>\n",
              "      <td>-0.67448</td>\n",
              "      <td>-0.34804</td>\n",
              "      <td>0.065516</td>\n",
              "      <td>0.388345</td>\n",
              "      <td>0.499684</td>\n",
              "      <td>0.125544</td>\n",
              "      <td>-0.100142</td>\n",
              "      <td>-0.056653</td>\n",
              "      <td>0.012345</td>\n",
              "      <td>0.011031</td>\n",
              "      <td>-0.03356</td>\n",
              "      <td>-0.010063</td>\n",
              "      <td>0.0</td>\n",
              "      <td>0.0</td>\n",
              "      <td>0.0</td>\n",
              "      <td>0.0</td>\n",
              "      <td>0.0</td>\n",
              "      <td>0.000276</td>\n",
              "      <td>0.011492</td>\n",
              "    </tr>\n",
              "  </tbody>\n",
              "</table>\n",
              "</div>"
            ],
            "text/plain": [
              "         r2           mse  ...  snowfall_x_month_11  snowfall_x_month_12\n",
              "0  0.115945  17167.100144  ...             0.000276             0.011492\n",
              "\n",
              "[1 rows x 28 columns]"
            ]
          },
          "metadata": {
            "tags": []
          },
          "execution_count": 13
        }
      ]
    },
    {
      "cell_type": "code",
      "metadata": {
        "id": "yX5jAoFnF6FC",
        "colab_type": "code",
        "colab": {
          "base_uri": "https://localhost:8080/",
          "height": 426
        },
        "outputId": "fe3191f3-2071-4212-920a-4b6e0cb6214d"
      },
      "source": [
        "fig, ax = plt.figure(), plt.axes()\n",
        "sns.heatmap(data=result.drop(columns=['mse', 'mae', 'r2']).T, ax=ax)\n",
        "plt.title(\"Coefficients for linear regression\")\n",
        "ax.set_xticklabels(\"\")\n",
        "plt.show();"
      ],
      "execution_count": 14,
      "outputs": [
        {
          "output_type": "display_data",
          "data": {
            "image/png": "[encoded data removed]",
            "text/plain": [
              "<Figure size 792x504 with 2 Axes>"
            ]
          },
          "metadata": {
            "tags": [],
            "image/png": {
              "width": 685,
              "height": 409
            }
          }
        }
      ]
    },
    {
      "cell_type": "markdown",
      "metadata": {
        "id": "7c1rujnazz_2",
        "colab_type": "text"
      },
      "source": [
        "We do see lower values for the month labels during summer, but some months seem to \"grow\" snow without actual snowfall!"
      ]
    },
    {
      "cell_type": "code",
      "metadata": {
        "id": "ykzF7BAXF6FF",
        "colab_type": "code",
        "colab": {
          "base_uri": "https://localhost:8080/",
          "height": 768
        },
        "outputId": "4630bf04-0ed5-4ccd-8caa-a1488feca081"
      },
      "source": [
        "lin_regr_resids = pd.DataFrame()\n",
        "lin_regr_resids['y']= np.concatenate([y[0] for y in regional_regression.y])\n",
        "lin_regr_resids['y_hat'] = np.concatenate([yh[0] for yh in regional_regression.y_hat])\n",
        "utils.resid_plotter(residuals=lin_regr_resids.y_hat-lin_regr_resids.y,\n",
        "                    y=lin_regr_resids.y)"
      ],
      "execution_count": 15,
      "outputs": [
        {
          "output_type": "display_data",
          "data": {
            "image/png": "[encoded data removed]",
            "text/plain": [
              "<Figure size 720x720 with 2 Axes>"
            ]
          },
          "metadata": {
            "tags": [],
            "image/png": {
              "width": 609,
              "height": 588
            }
          }
        },
        {
          "output_type": "stream",
          "text": [
            "count    58542.000000\n",
            "mean        -0.008443\n",
            "std          1.531640\n",
            "min        -30.035679\n",
            "25%         -0.165369\n",
            "50%         -0.015371\n",
            "75%          0.162994\n",
            "max        153.372815\n",
            "dtype: float64\n"
          ],
          "name": "stdout"
        }
      ]
    },
    {
      "cell_type": "markdown",
      "metadata": {
        "id": "47AzQ6mrNKYn",
        "colab_type": "text"
      },
      "source": [
        "The betas on the snow and monthly evolution (e.g. melting) are all over the place. I will turn to a baysian model to constrain these."
      ]
    },
    {
      "cell_type": "markdown",
      "metadata": {
        "id": "_m1rP0cIF6FR",
        "colab_type": "text"
      },
      "source": [
        "# Bayesian Model in Stan (MCMC)\n",
        "I want to add priors to the model that snowfall should only result in increases in base depth, and monthly effects should only result in reduction (i.e., monthly effect should measure strength of melting.); changes at odds with this should be considered as noise. A bayesian model allows for this."
      ]
    },
    {
      "cell_type": "code",
      "metadata": {
        "id": "__OGwbNgF6FR",
        "colab_type": "code",
        "colab": {
          "base_uri": "https://localhost:8080/",
          "height": 218
        },
        "outputId": "6e6080d2-9b6f-485b-a7db-e64ee26ce0d0"
      },
      "source": [
        "stan_df = (long_series_df\n",
        "           .pipe(add_month)\n",
        "           .pipe(add_diff)\n",
        "           .pipe(ohe, 'region')\n",
        "           .pipe(ohe, 'month')\n",
        "           # skip: coded in stan // .pipe(add_month_x_snowfall)\n",
        "           .pipe(cleaner)\n",
        "            )\n",
        "columns = stan_df.columns\n",
        "cols1 = [c for c in columns if \"snowfall\" not in c]\n",
        "cols2 = [c for c in columns if c not in cols1]\n",
        "data = stan_df[cols1 + cols2]\n",
        "stan_df.head()"
      ],
      "execution_count": 16,
      "outputs": [
        {
          "output_type": "execute_result",
          "data": {
            "text/html": [
              "<div>\n",
              "<style scoped>\n",
              "    .dataframe tbody tr th:only-of-type {\n",
              "        vertical-align: middle;\n",
              "    }\n",
              "\n",
              "    .dataframe tbody tr th {\n",
              "        vertical-align: top;\n",
              "    }\n",
              "\n",
              "    .dataframe thead th {\n",
              "        text-align: right;\n",
              "    }\n",
              "</style>\n",
              "<table border=\"1\" class=\"dataframe\">\n",
              "  <thead>\n",
              "    <tr style=\"text-align: right;\">\n",
              "      <th></th>\n",
              "      <th>snowfall</th>\n",
              "      <th>ski_yr</th>\n",
              "      <th>delta_base</th>\n",
              "      <th>region_Cascades</th>\n",
              "      <th>region_Colorado</th>\n",
              "      <th>region_East</th>\n",
              "      <th>region_New_England</th>\n",
              "      <th>region_Other</th>\n",
              "      <th>region_Rockies_Other</th>\n",
              "      <th>region_Sierras</th>\n",
              "      <th>region_Utah</th>\n",
              "      <th>month_1</th>\n",
              "      <th>month_2</th>\n",
              "      <th>month_3</th>\n",
              "      <th>month_4</th>\n",
              "      <th>month_5</th>\n",
              "      <th>month_6</th>\n",
              "      <th>month_7</th>\n",
              "      <th>month_8</th>\n",
              "      <th>month_9</th>\n",
              "      <th>month_10</th>\n",
              "      <th>month_11</th>\n",
              "      <th>month_12</th>\n",
              "    </tr>\n",
              "  </thead>\n",
              "  <tbody>\n",
              "    <tr>\n",
              "      <th>11085</th>\n",
              "      <td>2.0</td>\n",
              "      <td>5.0</td>\n",
              "      <td>0.000000</td>\n",
              "      <td>0</td>\n",
              "      <td>0</td>\n",
              "      <td>0</td>\n",
              "      <td>0</td>\n",
              "      <td>1</td>\n",
              "      <td>0</td>\n",
              "      <td>0</td>\n",
              "      <td>0</td>\n",
              "      <td>1</td>\n",
              "      <td>0</td>\n",
              "      <td>0</td>\n",
              "      <td>0</td>\n",
              "      <td>0</td>\n",
              "      <td>0</td>\n",
              "      <td>0</td>\n",
              "      <td>0</td>\n",
              "      <td>0</td>\n",
              "      <td>0</td>\n",
              "      <td>0</td>\n",
              "      <td>0</td>\n",
              "    </tr>\n",
              "    <tr>\n",
              "      <th>11086</th>\n",
              "      <td>3.0</td>\n",
              "      <td>5.0</td>\n",
              "      <td>-2.320142</td>\n",
              "      <td>0</td>\n",
              "      <td>0</td>\n",
              "      <td>0</td>\n",
              "      <td>0</td>\n",
              "      <td>1</td>\n",
              "      <td>0</td>\n",
              "      <td>0</td>\n",
              "      <td>0</td>\n",
              "      <td>1</td>\n",
              "      <td>0</td>\n",
              "      <td>0</td>\n",
              "      <td>0</td>\n",
              "      <td>0</td>\n",
              "      <td>0</td>\n",
              "      <td>0</td>\n",
              "      <td>0</td>\n",
              "      <td>0</td>\n",
              "      <td>0</td>\n",
              "      <td>0</td>\n",
              "      <td>0</td>\n",
              "    </tr>\n",
              "    <tr>\n",
              "      <th>11087</th>\n",
              "      <td>5.0</td>\n",
              "      <td>5.0</td>\n",
              "      <td>0.000000</td>\n",
              "      <td>0</td>\n",
              "      <td>0</td>\n",
              "      <td>0</td>\n",
              "      <td>0</td>\n",
              "      <td>1</td>\n",
              "      <td>0</td>\n",
              "      <td>0</td>\n",
              "      <td>0</td>\n",
              "      <td>1</td>\n",
              "      <td>0</td>\n",
              "      <td>0</td>\n",
              "      <td>0</td>\n",
              "      <td>0</td>\n",
              "      <td>0</td>\n",
              "      <td>0</td>\n",
              "      <td>0</td>\n",
              "      <td>0</td>\n",
              "      <td>0</td>\n",
              "      <td>0</td>\n",
              "      <td>0</td>\n",
              "    </tr>\n",
              "    <tr>\n",
              "      <th>31350</th>\n",
              "      <td>0.0</td>\n",
              "      <td>5.0</td>\n",
              "      <td>-1.652098</td>\n",
              "      <td>0</td>\n",
              "      <td>0</td>\n",
              "      <td>0</td>\n",
              "      <td>0</td>\n",
              "      <td>1</td>\n",
              "      <td>0</td>\n",
              "      <td>0</td>\n",
              "      <td>0</td>\n",
              "      <td>0</td>\n",
              "      <td>1</td>\n",
              "      <td>0</td>\n",
              "      <td>0</td>\n",
              "      <td>0</td>\n",
              "      <td>0</td>\n",
              "      <td>0</td>\n",
              "      <td>0</td>\n",
              "      <td>0</td>\n",
              "      <td>0</td>\n",
              "      <td>0</td>\n",
              "      <td>0</td>\n",
              "    </tr>\n",
              "    <tr>\n",
              "      <th>31351</th>\n",
              "      <td>0.0</td>\n",
              "      <td>5.0</td>\n",
              "      <td>0.000001</td>\n",
              "      <td>0</td>\n",
              "      <td>0</td>\n",
              "      <td>0</td>\n",
              "      <td>0</td>\n",
              "      <td>1</td>\n",
              "      <td>0</td>\n",
              "      <td>0</td>\n",
              "      <td>0</td>\n",
              "      <td>0</td>\n",
              "      <td>1</td>\n",
              "      <td>0</td>\n",
              "      <td>0</td>\n",
              "      <td>0</td>\n",
              "      <td>0</td>\n",
              "      <td>0</td>\n",
              "      <td>0</td>\n",
              "      <td>0</td>\n",
              "      <td>0</td>\n",
              "      <td>0</td>\n",
              "      <td>0</td>\n",
              "    </tr>\n",
              "  </tbody>\n",
              "</table>\n",
              "</div>"
            ],
            "text/plain": [
              "       snowfall  ski_yr  delta_base  ...  month_10  month_11  month_12\n",
              "11085       2.0     5.0    0.000000  ...         0         0         0\n",
              "11086       3.0     5.0   -2.320142  ...         0         0         0\n",
              "11087       5.0     5.0    0.000000  ...         0         0         0\n",
              "31350       0.0     5.0   -1.652098  ...         0         0         0\n",
              "31351       0.0     5.0    0.000001  ...         0         0         0\n",
              "\n",
              "[5 rows x 23 columns]"
            ]
          },
          "metadata": {
            "tags": []
          },
          "execution_count": 16
        }
      ]
    },
    {
      "cell_type": "code",
      "metadata": {
        "id": "f_7mt-C1Vi60",
        "colab_type": "code",
        "colab": {}
      },
      "source": [
        "# sample data; half million records => slow mcmc\n",
        "stan_sample_df = stan_df.sample(frac=.1, axis=0, replace=False)\n",
        "\n",
        "# provide data including shapes and column type locations to stan\n",
        "month_cols = [col for col in stan_sample_df.columns if \"month\" in col]\n",
        "snow_cols = [col for col in stan_sample_df.columns if \"snow\" in col]\n",
        "\n",
        "X = stan_sample_df.drop(columns=['delta_base', 'ski_yr'])\n",
        "X_month= X[month_cols]\n",
        "X_snow = X['snowfall']\n",
        "y = stan_sample_df[['delta_base']]\n",
        "stan_data = {'N': X.shape[0],\n",
        "             'K_month': X_month.shape[1],\n",
        "             'X_month': X_month.to_numpy(),\n",
        "             'X_snow': X_snow.to_numpy().reshape(-1,1),\n",
        "             'y': y.to_numpy().reshape(-1),\n",
        "             }"
      ],
      "execution_count": 17,
      "outputs": []
    },
    {
      "cell_type": "code",
      "metadata": {
        "id": "Rxc7NygqF6FU",
        "colab_type": "code",
        "colab": {}
      },
      "source": [
        "stan_model_str = \"\"\"\n",
        "data {\n",
        "    // input data passed from Python\n",
        "    int<lower=1> N;               // number of data observations\n",
        "    int<lower=1> K_month;         // no of melting predictors\n",
        "    matrix[N, K_month] X_month;   // predictor for melting features\n",
        "    matrix[N, 1] X_snow;          // snowfall predictor\n",
        "    vector[N] y;                  // response vector\n",
        "}\n",
        "parameters {\n",
        "    real alpha;                        // intercept\n",
        "    vector<upper=0>[K_month] beta_mo;  // coefficients for melting\n",
        "    vector<lower=0>[1] beta_snow;      // coefficients for snowfall\n",
        "    real<lower=0> sigma;               // must be +ve\n",
        "    real<lower=0> sig_mos;             // must be +ve\n",
        "}\n",
        "transformed parameters {\n",
        "    //vector[N] y_hat;\n",
        "    //y_hat = alpha + (X_month*beta_mo) + (X_snow*beta_snow);\n",
        "}\n",
        "model {\n",
        "    alpha ~ normal(0, .5);              // really think this should be close to zero\n",
        "    sigma ~ cauchy(0, 10);              // half Cauchy\n",
        "    sig_mos ~ cauchy(0, 20);\n",
        "    for (n in 1:K_month) {\n",
        "        beta_mo[n] ~ normal(0, sig_mos) T[,0]; // sample from normal, only -ve\n",
        "    }\n",
        "    beta_snow[1] ~ beta(2.2, 3);                // prior on snow columns is beta over [0,1]\n",
        "    y ~ normal(alpha + (X_month*beta_mo) + (X_snow*beta_snow), sigma);\n",
        "}\n",
        "generated quantities{\n",
        "    //vector[N] log_lik;\n",
        "    //for (n in 1:N) {\n",
        "    //    log_lik[n] = normal_lpdf(y[n] | theta[n], sigma[n]);\n",
        "}\n",
        "\"\"\""
      ],
      "execution_count": 22,
      "outputs": []
    },
    {
      "cell_type": "code",
      "metadata": {
        "id": "ffQAVs5kt23C",
        "colab_type": "code",
        "colab": {
          "base_uri": "https://localhost:8080/",
          "height": 35
        },
        "outputId": "8891ff8d-927d-4048-9357-3e5465a9ceb2"
      },
      "source": [
        "sm = pystan.StanModel(model_code=stan_model_str, model_name='stan_model')"
      ],
      "execution_count": 23,
      "outputs": [
        {
          "output_type": "stream",
          "text": [
            "INFO:pystan:COMPILING THE C++ CODE FOR MODEL stan_model_1b79f6aa50c1e77c3eff7e7b84d7bad4 NOW.\n"
          ],
          "name": "stderr"
        }
      ]
    },
    {
      "cell_type": "code",
      "metadata": {
        "id": "JT3bX-l5ocXx",
        "colab_type": "code",
        "colab": {}
      },
      "source": [
        "# avoid recompile if possible\n",
        "with open('./models/stan_model.pkl', 'wb') as f:\n",
        "    pickle.dump(sm, f)"
      ],
      "execution_count": 24,
      "outputs": []
    },
    {
      "cell_type": "code",
      "metadata": {
        "id": "wD_ZZ4pquEND",
        "colab_type": "code",
        "colab": {}
      },
      "source": [
        "fit = sm.sampling(data=stan_data, iter=2_000, chains=4, n_jobs=-1,\n",
        "                  control={'adapt_delta': 0.91 # p accepting posterior draw\n",
        "                           }, \n",
        "                  seed=42, verbose=True)"
      ],
      "execution_count": null,
      "outputs": []
    },
    {
      "cell_type": "code",
      "metadata": {
        "id": "OKRmIvzkD4hq",
        "colab_type": "code",
        "colab": {}
      },
      "source": [
        "fit"
      ],
      "execution_count": null,
      "outputs": []
    },
    {
      "cell_type": "code",
      "metadata": {
        "id": "YJXVG5wGhUeI",
        "colab_type": "code",
        "colab": {}
      },
      "source": [
        "# for overnight run\n",
        "result_path = './models/stan_results.pkl'\n",
        "try:\n",
        "    fit\n",
        "except NameError:\n",
        "    with open(result_path, 'rb') as f:\n",
        "        pickle.load(fit, f)\n",
        "else:\n",
        "    with open(result_path, 'wb') as f:\n",
        "        pickle.dump(fit, f)"
      ],
      "execution_count": null,
      "outputs": []
    },
    {
      "cell_type": "markdown",
      "metadata": {
        "id": "hWB3_b-Fx7Dp",
        "colab_type": "text"
      },
      "source": [
        "## MCMC Diagnostics\n",
        "We will want to check:\n",
        "1. Model actually runs.\n",
        "1. Good Mixing of Chains: (fix with stronger prior, reparameterization)\n",
        "    1. $\\hat{R}$ is 1.1 or under for all parameters.\n",
        "    1. When n_eff / n_transitions < 0.001 the estimators that we use are often biased and can significantly overestimate the true effective sample size.\n",
        "1. Check tree depth:\n",
        "if threshold saturated, increase tree depth _control={max_treedepth: 15}_\n",
        "1. \n",
        "\n",
        "_\n",
        "\n"
      ]
    },
    {
      "cell_type": "code",
      "metadata": {
        "id": "JSPHbBtmns3M",
        "colab_type": "code",
        "colab": {}
      },
      "source": [
        "stan_utility.check_all_diagnostics(fit)"
      ],
      "execution_count": null,
      "outputs": []
    },
    {
      "cell_type": "code",
      "metadata": {
        "id": "JvpMay_QLH0g",
        "colab_type": "code",
        "colab": {}
      },
      "source": [
        "stan_utility.utils.check_treedepth(fit)"
      ],
      "execution_count": null,
      "outputs": []
    },
    {
      "cell_type": "code",
      "metadata": {
        "id": "7EvU4s9MzWaR",
        "colab_type": "code",
        "colab": {}
      },
      "source": [
        "stan_utility.utils.check_energy(fit)"
      ],
      "execution_count": null,
      "outputs": []
    },
    {
      "cell_type": "code",
      "metadata": {
        "id": "co9Ju6w919HK",
        "colab_type": "code",
        "colab": {}
      },
      "source": [
        "stan_utility.utils.check_div(fit)"
      ],
      "execution_count": null,
      "outputs": []
    },
    {
      "cell_type": "code",
      "metadata": {
        "id": "IfVSLIBk2mc1",
        "colab_type": "code",
        "colab": {}
      },
      "source": [
        "fit_df = fit.to_dataframe()\n",
        "fit_df.mean().to_frame()"
      ],
      "execution_count": null,
      "outputs": []
    },
    {
      "cell_type": "code",
      "metadata": {
        "id": "HtAQQbXgoJM4",
        "colab_type": "code",
        "colab": {}
      },
      "source": [
        "# fix brackets in col nmaes\n",
        "fit_df = (fit_df.rename(columns=lambda x: x.replace(\"[\", \"_\"))\n",
        "          .rename(columns=lambda x: x.replace(\"]\", \"\")))\n",
        "\n",
        "fit_df.head()\n"
      ],
      "execution_count": null,
      "outputs": []
    },
    {
      "cell_type": "markdown",
      "metadata": {
        "id": "JiBiPS4n-Boz",
        "colab_type": "text"
      },
      "source": [
        "## Visualization of results"
      ]
    },
    {
      "cell_type": "code",
      "metadata": {
        "id": "QGWijn1yDh7H",
        "colab_type": "code",
        "colab": {}
      },
      "source": [
        "az.plot_trace(fit);"
      ],
      "execution_count": null,
      "outputs": []
    },
    {
      "cell_type": "code",
      "metadata": {
        "id": "jtnkUDrpDsDS",
        "colab_type": "code",
        "colab": {}
      },
      "source": [
        "az.plot_joint(fit, kind='kde', fill_last=False);"
      ],
      "execution_count": null,
      "outputs": []
    },
    {
      "cell_type": "code",
      "metadata": {
        "id": "UTAvO9AB-BHk",
        "colab_type": "code",
        "colab": {}
      },
      "source": [
        "az_data = az.from_pystan(\n",
        "    posterior=fit,\n",
        "    posterior_predictive=\"y_hat\",\n",
        "    observed_data=[\"y\"],\n",
        "    log_likelihood={\"y\": \"log_lik\"},\n",
        "    coords={\"school\": np.arange(eight_school_data[\"J\"])},\n",
        "    dims={\n",
        "        \"theta\": [\"school\"],\n",
        "        \"y\": [\"school\"],\n",
        "        \"log_lik\": [\"school\"],\n",
        "        \"y_hat\": [\"school\"],\n",
        "        \"theta_tilde\": [\"school\"],\n",
        "    },\n",
        ")\n"
      ],
      "execution_count": null,
      "outputs": []
    }
  ]
}