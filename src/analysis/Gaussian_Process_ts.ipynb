{
 "cells": [
  {
   "cell_type": "markdown",
   "metadata": {},
   "source": [
    "# Gaussian Process Time Series\n",
    "\n",
    "### \n",
    "I want to implementa a structural model that reflects:\n",
    "* __base depth = decay(prior depth) + fraction(snowfall)__\n",
    "    * __decay__ function varying by month (as a proxy for temperature and sunlight) \n",
    "    * __fraction__ function reflecting powder compacts into base"
   ]
  },
  {
   "cell_type": "code",
   "execution_count": null,
   "metadata": {},
   "outputs": [],
   "source": [
    "import numpy as np\n",
    "import pandas as pd"
   ]
  },
  {
   "cell_type": "code",
   "execution_count": null,
   "metadata": {},
   "outputs": [],
   "source": [
    "all_data_path = r'../../data/snow_data_clean.parquet'\n",
    "\n",
    "long_series_df = pd.read_parquet(all_data_path).reset_index().set_index('pseudo_ts')\n",
    "assert long_series_df.base.isna().sum()==0\n",
    "month_ts_df = long_series_df.pipe(resample_by_month, time_col='pseudo_ts')\n",
    "# start analysis with just CO resorts\n",
    "co_base_ts = (month_ts_df\n",
    "              .query('state==\"colorado\"')\n",
    "              .sort_values(by='pseudo_ts')\n",
    "              .dropna(how='all')\n",
    "             )"
   ]
  }
 ],
 "metadata": {
  "kernelspec": {
   "display_name": "ski_proj",
   "language": "python",
   "name": "ski_proj"
  },
  "language_info": {
   "codemirror_mode": {
    "name": "ipython",
    "version": 3
   },
   "file_extension": ".py",
   "mimetype": "text/x-python",
   "name": "python",
   "nbconvert_exporter": "python",
   "pygments_lexer": "ipython3",
   "version": "3.7.4"
  }
 },
 "nbformat": 4,
 "nbformat_minor": 4
}
