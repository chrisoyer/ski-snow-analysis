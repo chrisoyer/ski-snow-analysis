{
 "cells": [
  {
   "cell_type": "markdown",
   "metadata": {
    "colab_type": "text",
    "id": "7XPDZgpz1Xmc"
   },
   "source": [
    "# Description\n",
    "I will use several deep learning models for my time series predictions. \n",
    "* LSTM\n",
    "* Transformer\n",
    "* dialated CNN\n",
    "\n",
    "In all cases I will include daily snowfall as an exogenous variable.\n",
    "\n",
    "## Environment\n",
    "For $ reasons I will use Colab"
   ]
  },
  {
   "cell_type": "code",
   "execution_count": 1,
   "metadata": {
    "colab": {},
    "colab_type": "code",
    "id": "3Fxn3mNN1p7b"
   },
   "outputs": [],
   "source": [
    "# get colab status\n",
    "try:\n",
    "    import google.colab\n",
    "    IN_COLAB = True\n",
    "    %tensorflow_version 2.x\n",
    "except:\n",
    "    IN_COLAB = False"
   ]
  },
  {
   "cell_type": "code",
   "execution_count": 2,
   "metadata": {
    "colab": {},
    "colab_type": "code",
    "id": "dL4bZtGo1Xmj"
   },
   "outputs": [],
   "source": [
    "# data wrangling\n",
    "import numpy as np\n",
    "import pandas as pd\n",
    "import os.path\n",
    "\n",
    "# viz\n",
    "import altair as alt\n",
    "import matplotlib.pyplot as plt\n",
    "%matplotlib inline\n",
    "from vapeplot import vapeplot\n",
    "import seaborn as sns\n",
    "from scipy import stats\n",
    "from sklearn.preprocessing import MinMaxScaler"
   ]
  },
  {
   "cell_type": "code",
   "execution_count": 3,
   "metadata": {
    "colab": {},
    "colab_type": "code",
    "id": "dL4bZtGo1Xmj"
   },
   "outputs": [],
   "source": [
    "# local code with hack to avoid cloing full repo each time colab is run\n",
    "if IN_COLAB:\n",
    "    projectcode = r\"https://github.com/chrisoyer/ski-snow-modeling/blob/master/src/analysis/project_utils/project_utils.py\"\n",
    "    ! wget $projectcode\n",
    "from project_utils.project_utils import *"
   ]
  },
  {
   "cell_type": "code",
   "execution_count": 4,
   "metadata": {
    "colab": {},
    "colab_type": "code",
    "id": "G796MM0Z1XnG"
   },
   "outputs": [],
   "source": [
    "from tensorflow.keras.preprocessing import sequence\n",
    "from tensorflow.keras import Input, Model\n",
    "from tensorflow.keras.layers import LSTM, Dense\n",
    "from tensorflow.keras.optimizers import RMSprop\n",
    "from tensorflow.keras.callbacks import ModelCheckpoint\n",
    "from tensorflow.keras.models import load_model\n",
    "from tensorflow.keras.metrics import RootMeanSquaredError as rmse"
   ]
  },
  {
   "cell_type": "markdown",
   "metadata": {
    "colab_type": "text",
    "id": "g872-Wxf1Xnc"
   },
   "source": [
    "# Parameters"
   ]
  },
  {
   "cell_type": "code",
   "execution_count": 5,
   "metadata": {
    "colab": {},
    "colab_type": "code",
    "id": "UnYmV6rl1Xnd",
    "scrolled": true
   },
   "outputs": [],
   "source": [
    "alt.renderers.enable(embed_options={'theme': 'vox'})\n",
    "alt.data_transformers.disable_max_rows()\n",
    "plt.style.use('https://github.com/dhaitz/matplotlib-stylesheets/raw/master/pitayasmoothie-light.mplstyle')\n",
    "plt.rc('figure', figsize=(11.0, 7.0))\n",
    "batch_size = 15\n",
    "logs_path = \"./logs/visualize_graph\"\n",
    "\n",
    "lookback = 30  # days prior to use for prediction"
   ]
  },
  {
   "cell_type": "markdown",
   "metadata": {
    "colab_type": "text",
    "id": "hXTm9mUC1Xol"
   },
   "source": [
    "# Plotting Functions"
   ]
  },
  {
   "cell_type": "code",
   "execution_count": 6,
   "metadata": {
    "colab": {},
    "colab_type": "code",
    "id": "IpVsCYxh4FsB"
   },
   "outputs": [],
   "source": [
    "def hist_plotter(hist):\n",
    "    \"\"\"plots train and validation scores by epoch\n",
    "    hist: TF history object\n",
    "    \"\"\"\n",
    "    metrics = [m for m in hist if 'loss' not in m and 'val' not in m]\n",
    "    fig, ax = plt.subplots(nrows=len(metrics), ncols=1, sharex=True)\n",
    "    fig.patch.set_facecolor('whitesmoke')\n",
    "    \n",
    "    for i, metric in enumerate(metrics):\n",
    "        train_metric = (pd.DataFrame(enumerate(hist[metric], 1))\n",
    "                        .rename(columns={0:'epoch', 1:'value'}))\n",
    "        ax[i].plot(train_metric.epoch, train_metric.value, label=f\"Train\")\n",
    "        val_metric = (pd.DataFrame(enumerate(hist[f\"val_{metric}\"], 1))\n",
    "                       .rename(columns={0:'epoch', 1:'value'}))\n",
    "        ax[i].plot(val_metric.epoch, val_metric.value, label=\"Validation\")\n",
    "        ax[i].set_title(f\"{metric}\")\n",
    "    plt.legend(loc='upper right')\n",
    "    fig.suptitle('Training and Validation Metrics')\n",
    "    plt.xlabel('Epochs')\n",
    "    plt.show()"
   ]
  },
  {
   "cell_type": "markdown",
   "metadata": {
    "colab_type": "text",
    "id": "Kn5WQHzc1Xn4"
   },
   "source": [
    "# Load Data"
   ]
  },
  {
   "cell_type": "code",
   "execution_count": 7,
   "metadata": {
    "colab": {},
    "colab_type": "code",
    "id": "_Nh3-o1I16Tb"
   },
   "outputs": [
    {
     "name": "stdout",
     "output_type": "stream",
     "text": [
      "/c/Users/User/Documents/GitHub/ski-snow-modeling/src/analysis\n"
     ]
    }
   ],
   "source": [
    "if IN_COLAB:\n",
    "    from google.colab import drive\n",
    "    drive.mount('/content/gdrive')\n",
    "    os.chdir(r'/content/gdrive/My Drive/data_sci/colab_datasets/ski/')\n",
    "    all_data_path = r'./data/snow_data_clean.parquet'\n",
    "    mirrored_strategy = tf.distribute.MirroredStrategy()\n",
    "else:\n",
    "    all_data_path = r'../../data/snow_data_clean.parquet'\n",
    "!pwd"
   ]
  },
  {
   "cell_type": "code",
   "execution_count": 8,
   "metadata": {
    "colab": {},
    "colab_type": "code",
    "id": "2iEUM05J1XoA"
   },
   "outputs": [],
   "source": [
    "snow_df = pd.read_parquet(all_data_path)"
   ]
  },
  {
   "cell_type": "markdown",
   "metadata": {
    "colab": {},
    "colab_type": "code",
    "id": "qTeK45hn1Xoc"
   },
   "source": [
    "### Reshape for TF input\n",
    "Shape should match (__samples__, __time steps__, __features__)"
   ]
  },
  {
   "cell_type": "code",
   "execution_count": 9,
   "metadata": {},
   "outputs": [],
   "source": [
    "def data_slim(source=snow_df, station=None, region=None):\n",
    "    \"\"\"filters data for station OR region, relevant features, and returns np\"\"\"\n",
    "    if station:\n",
    "        source = source.query('station==@station')\n",
    "    if region:\n",
    "        source = source.query('region==@region')\n",
    "\n",
    "    data_arr = (source\n",
    "                .reset_index()\n",
    "                [['base', 'dayofyr', 'snowfall']]\n",
    "                .to_numpy()\n",
    "                )\n",
    "    return data_arr"
   ]
  },
  {
   "cell_type": "code",
   "execution_count": 10,
   "metadata": {
    "colab": {},
    "colab_type": "code",
    "id": "CpE2UtpO1XpD"
   },
   "outputs": [],
   "source": [
    "# scale data\n",
    "def scaler(X):\n",
    "    scaler = MinMaxScaler(feature_range=(-1, 1))\n",
    "    scaler = scaler.fit(X)\n",
    "    scaled_X = scaler.transform(X)\n",
    "\n",
    "    # invert transform\n",
    "    inverted_X = scaler.inverse_transform(scaled_X)\n",
    "    return scaled_X#, inverted_X"
   ]
  },
  {
   "cell_type": "code",
   "execution_count": 11,
   "metadata": {},
   "outputs": [],
   "source": [
    "copper = data_slim(station=\"Copper Mountain\")\n",
    "\n",
    "copper_scaled = scaler(copper)"
   ]
  },
  {
   "cell_type": "code",
   "execution_count": 12,
   "metadata": {},
   "outputs": [],
   "source": [
    "def data_split(data=None, test_frac=.2, lookback=lookback, batch_size=batch_size):\n",
    "    \"\"\"split into train and test sets\n",
    "    Params:\n",
    "        data: endogenous should be first col\n",
    "        test_size: fraction of data for test\n",
    "    returns: (training data generator, test data generator)\n",
    "    \"\"\"\n",
    "    data_rows = data.shape[0]\n",
    "    test_size = int(data_rows * test_frac)\n",
    "    train_size = data_rows - test_size\n",
    "    train, test = data[:train_size, :], data[train_size:, :]\n",
    "    gen_params = {'length': lookback,  # prior samples used for prediction\n",
    "                  'sampling_rate': 1, 'stride': 1,\n",
    "                  'batch_size': batch_size}\n",
    "    train_data_gen = sequence.TimeseriesGenerator(data=train,\n",
    "                                                  targets=train[:, 0],\n",
    "                                                  **gen_params)\n",
    "    test_data_gen = sequence.TimeseriesGenerator(data=test,\n",
    "                                                 targets=test[:, 0],\n",
    "                                                 **gen_params)\n",
    "    return train_data_gen, test_data_gen\n",
    "\n",
    "\n",
    "Xy_train, Xy_val = data_split(data=copper_scaled)"
   ]
  },
  {
   "cell_type": "markdown",
   "metadata": {
    "colab_type": "text",
    "id": "VoGI33Zl1Xo3"
   },
   "source": [
    "# Timeseries Modeling\n",
    "\n",
    "The evolution of snow base depth over time depends (not 1:1; a foot of powder is only a few inches of packed powder) on new snowfall and melting of old snow. I will start by modeling as a simple timeseries, and then include new snowfall as a predictor variable."
   ]
  },
  {
   "cell_type": "markdown",
   "metadata": {
    "colab_type": "text",
    "id": "dkRmq7LH1Xo5"
   },
   "source": [
    "## Modeling Setup\n",
    "I will use supersetting crossvalidation (walk-forward CV) since this is a time series problem."
   ]
  },
  {
   "cell_type": "markdown",
   "metadata": {
    "colab_type": "text",
    "id": "0Grps6111XpC"
   },
   "source": [
    "# TF LSTM models\n",
    " "
   ]
  },
  {
   "cell_type": "code",
   "execution_count": 33,
   "metadata": {
    "colab": {},
    "colab_type": "code",
    "id": "hqOK4Ttb1XpO"
   },
   "outputs": [],
   "source": [
    "def make_lstm(neurons=None, layers=None, batch_size=None, x_shape=None, lookback=lookback):\n",
    "    \"\"\"\n",
    "    Parameters:\n",
    "        neurons: width of layers, eg (4,5,6) implies first hidden layer has 4\n",
    "            neuron, 2nd layer has 5, third layer has 6\n",
    "        batch size: ...\n",
    "        x_shape: (rows, features)\n",
    "    Returns: unfitted model\n",
    "    \"\"\"\n",
    "    input_shape = (lookback, x_shape[1])\n",
    "    xlayer = inputs = Input(shape=input_shape, batch_size=batch_size)\n",
    "    for layer in range(layers):\n",
    "        lstm_kwargs = dict(units=neurons, batch_input_shape=input_shape,\n",
    "                           stateful=True, dropout=0.2, recurrent_dropout=0.2)\n",
    "        if layer == layers-1:\n",
    "            lstm_kwargs = {**lstm_kwargs, 'return_sequences': True}\n",
    "        xlayer = LSTM(**lstm_kwargs)(xlayer)\n",
    "    outputs = Dense(1)(xlayer)\n",
    "    model = Model(inputs=inputs, outputs=outputs)\n",
    "    metrics = ['mean_absolute_error', 'mean_squared_error']\n",
    "    model.compile(loss=\"mse\", metrics=metrics,\n",
    "                  optimizer='adam')\n",
    "    return model\n",
    "\n",
    "\n",
    "def fit_model(model, X, X_val, batch_size, n_epoch):\n",
    "    \"\"\"runs the training; returns model and history\"\"\"\n",
    "    history = model.fit(X, validation_data=X_val,\n",
    "                        epochs=n_epoch, batch_size=batch_size,\n",
    "                        shuffle=False, callbacks=[],\n",
    "                        verbose=1)\n",
    "    return model, history"
   ]
  },
  {
   "cell_type": "markdown",
   "metadata": {},
   "source": [
    "# Vanilla LSTM Model\n",
    "### 1 layer"
   ]
  },
  {
   "cell_type": "code",
   "execution_count": 34,
   "metadata": {
    "colab": {},
    "colab_type": "code",
    "id": "hqOK4Ttb1XpO"
   },
   "outputs": [
    {
     "name": "stdout",
     "output_type": "stream",
     "text": [
      "Model: \"model_4\"\n",
      "_________________________________________________________________\n",
      "Layer (type)                 Output Shape              Param #   \n",
      "=================================================================\n",
      "input_7 (InputLayer)         [(15, 30, 3)]             0         \n",
      "_________________________________________________________________\n",
      "lstm_7 (LSTM)                (15, 30, 100)             41600     \n",
      "_________________________________________________________________\n",
      "dense_4 (Dense)              (15, 30, 1)               101       \n",
      "=================================================================\n",
      "Total params: 41,701\n",
      "Trainable params: 41,701\n",
      "Non-trainable params: 0\n",
      "_________________________________________________________________\n"
     ]
    }
   ],
   "source": [
    "lstm_100x1 = make_lstm(neurons=100, layers=1,\n",
    "                       batch_size=batch_size, x_shape=copper_scaled.shape)\n",
    "lstm_100x1.summary()"
   ]
  },
  {
   "cell_type": "code",
   "execution_count": null,
   "metadata": {
    "colab": {},
    "colab_type": "code",
    "id": "hqOK4Ttb1XpO",
    "scrolled": true
   },
   "outputs": [
    {
     "name": "stdout",
     "output_type": "stream",
     "text": [
      "Epoch 1/20\n",
      "154/154 [==============================] - 6s 41ms/step - loss: 0.1107 - mean_absolute_error: 0.2617 - mean_squared_error: 0.1107 - val_loss: 0.0385 - val_mean_absolute_error: 0.1531 - val_mean_squared_error: 0.0385\n",
      "Epoch 2/20\n",
      "154/154 [==============================] - 6s 36ms/step - loss: 0.0502 - mean_absolute_error: 0.1673 - mean_squared_error: 0.0502 - val_loss: 0.0345 - val_mean_absolute_error: 0.1465 - val_mean_squared_error: 0.0345\n",
      "Epoch 3/20\n",
      "154/154 [==============================] - 5s 35ms/step - loss: 0.0470 - mean_absolute_error: 0.1595 - mean_squared_error: 0.0470 - val_loss: 0.0290 - val_mean_absolute_error: 0.1308 - val_mean_squared_error: 0.0290\n",
      "Epoch 4/20\n",
      "154/154 [==============================] - 5s 34ms/step - loss: 0.0443 - mean_absolute_error: 0.1533 - mean_squared_error: 0.0443 - val_loss: 0.0287 - val_mean_absolute_error: 0.1296 - val_mean_squared_error: 0.0287\n",
      "Epoch 5/20\n",
      "154/154 [==============================] - 5s 33ms/step - loss: 0.0430 - mean_absolute_error: 0.1514 - mean_squared_error: 0.0430 - val_loss: 0.0255 - val_mean_absolute_error: 0.1231 - val_mean_squared_error: 0.0255loss: 0.0491 - mean_absolute_erro\n",
      "Epoch 6/20\n",
      "154/154 [==============================] - 5s 35ms/step - loss: 0.0404 - mean_absolute_error: 0.1465 - mean_squared_error: 0.0404 - val_loss: 0.0244 - val_mean_absolute_error: 0.1223 - val_mean_squared_error: 0.0244\n",
      "Epoch 7/20\n",
      "154/154 [==============================] - 5s 33ms/step - loss: 0.0401 - mean_absolute_error: 0.1452 - mean_squared_error: 0.0401 - val_loss: 0.0258 - val_mean_absolute_error: 0.1215 - val_mean_squared_error: 0.0258\n",
      "Epoch 8/20\n",
      "154/154 [==============================] - 5s 32ms/step - loss: 0.0389 - mean_absolute_error: 0.1424 - mean_squared_error: 0.0389 - val_loss: 0.0254 - val_mean_absolute_error: 0.1200 - val_mean_squared_error: 0.0254\n",
      "Epoch 9/20\n",
      "154/154 [==============================] - 6s 39ms/step - loss: 0.0386 - mean_absolute_error: 0.1420 - mean_squared_error: 0.0386 - val_loss: 0.0249 - val_mean_absolute_error: 0.1171 - val_mean_squared_error: 0.0249\n",
      "Epoch 10/20\n",
      "154/154 [==============================] - 5s 34ms/step - loss: 0.0357 - mean_absolute_error: 0.1338 - mean_squared_error: 0.0357 - val_loss: 0.0179 - val_mean_absolute_error: 0.0964 - val_mean_squared_error: 0.0179\n",
      "Epoch 11/20\n",
      "154/154 [==============================] - 5s 33ms/step - loss: 0.0366 - mean_absolute_error: 0.1364 - mean_squared_error: 0.0366 - val_loss: 0.0198 - val_mean_absolute_error: 0.1095 - val_mean_squared_error: 0.0198\n",
      "Epoch 12/20\n",
      "113/154 [=====================>........] - ETA: 1s - loss: 0.0413 - mean_absolute_error: 0.1430 - mean_squared_error: 0.0413"
     ]
    }
   ],
   "source": [
    "lstm_100x1, lstm_100x1_hst = fit_model(model=lstm_100x1, \n",
    "                                       X=Xy_train, \n",
    "                                       X_val=Xy_val,\n",
    "                                       batch_size=batch_size, n_epoch=20)"
   ]
  },
  {
   "cell_type": "code",
   "execution_count": 16,
   "metadata": {
    "colab": {},
    "colab_type": "code",
    "id": "hqOK4Ttb1XpO",
    "scrolled": false
   },
   "outputs": [
    {
     "data": {
      "image/png": "[encoded data removed]",
      "text/plain": [
       "<Figure size 792x504 with 2 Axes>"
      ]
     },
     "metadata": {},
     "output_type": "display_data"
    }
   ],
   "source": [
    "hist_plotter(lstm_100x1_hst.history)"
   ]
  },
  {
   "cell_type": "markdown",
   "metadata": {},
   "source": [
    "### 2 Layers"
   ]
  },
  {
   "cell_type": "code",
   "execution_count": null,
   "metadata": {},
   "outputs": [],
   "source": [
    "lstm_100x2 = make_lstm(neurons=100, layers=2,\n",
    "                       batch_size=batch_size, x_shape=copper_scaled.shape)\n",
    "lstm_100x2.summary()"
   ]
  },
  {
   "cell_type": "code",
   "execution_count": null,
   "metadata": {},
   "outputs": [],
   "source": [
    "lstm_100x2, lstm_100x2_hst = fit_model(model=lstm_100x2, \n",
    "                                       X=Xy_train, \n",
    "                                       X_val=Xy_val,\n",
    "                                       batch_size=batch_size, n_epoch=20)"
   ]
  },
  {
   "cell_type": "code",
   "execution_count": null,
   "metadata": {},
   "outputs": [],
   "source": []
  },
  {
   "cell_type": "markdown",
   "metadata": {
    "colab": {},
    "colab_type": "code",
    "id": "u3LJRXSf1XpW"
   },
   "source": [
    "# Compare Models"
   ]
  },
  {
   "cell_type": "code",
   "execution_count": null,
   "metadata": {},
   "outputs": [],
   "source": []
  }
 ],
 "metadata": {
  "colab": {
   "name": "TF-snow_ts_analysis.ipynb",
   "provenance": []
  },
  "kernelspec": {
   "display_name": "Python 3",
   "language": "python",
   "name": "python3"
  },
  "language_info": {
   "codemirror_mode": {
    "name": "ipython",
    "version": 3
   },
   "file_extension": ".py",
   "mimetype": "text/x-python",
   "name": "python",
   "nbconvert_exporter": "python",
   "pygments_lexer": "ipython3",
   "version": "3.7.4"
  },
  "varInspector": {
   "cols": {
    "lenName": 16,
    "lenType": 16,
    "lenVar": 40
   },
   "kernels_config": {
    "python": {
     "delete_cmd_postfix": "",
     "delete_cmd_prefix": "del ",
     "library": "var_list.py",
     "varRefreshCmd": "print(var_dic_list())"
    },
    "r": {
     "delete_cmd_postfix": ") ",
     "delete_cmd_prefix": "rm(",
     "library": "var_list.r",
     "varRefreshCmd": "cat(var_dic_list()) "
    }
   },
   "types_to_exclude": [
    "module",
    "function",
    "builtin_function_or_method",
    "instance",
    "_Feature"
   ],
   "window_display": false
  }
 },
 "nbformat": 4,
 "nbformat_minor": 1
}
