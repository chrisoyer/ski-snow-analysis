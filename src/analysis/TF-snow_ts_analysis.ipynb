{
 "cells": [
  {
   "cell_type": "markdown",
   "metadata": {
    "colab_type": "text",
    "id": "7XPDZgpz1Xmc"
   },
   "source": [
    "# Description\n",
    "\n",
    "## Environment"
   ]
  },
  {
   "cell_type": "code",
   "execution_count": null,
   "metadata": {
    "colab": {},
    "colab_type": "code",
    "id": "3Fxn3mNN1p7b"
   },
   "outputs": [],
   "source": [
    "# get colab status\n",
    "try:\n",
    "    import google.colab\n",
    "    IN_COLAB = True\n",
    "    %tensorflow_version 2.x\n",
    "except:\n",
    "    IN_COLAB = False"
   ]
  },
  {
   "cell_type": "code",
   "execution_count": null,
   "metadata": {
    "colab": {},
    "colab_type": "code",
    "id": "dL4bZtGo1Xmj"
   },
   "outputs": [],
   "source": [
    "# data wrangling\n",
    "import numpy as np\n",
    "import pandas as pd\n",
    "import os.path\n",
    "from itertools import product as it_product\n",
    "\n",
    "# viz\n",
    "import altair as alt\n",
    "import matplotlib.pyplot as plt\n",
    "%matplotlib inline\n",
    "import seaborn as sns\n",
    "from scipy import stats\n",
    "from sklearn.preprocessing import MinMaxScaler"
   ]
  },
  {
   "cell_type": "code",
   "execution_count": null,
   "metadata": {
    "colab": {},
    "colab_type": "code",
    "id": "G796MM0Z1XnG"
   },
   "outputs": [],
   "source": [
    "import tensorflow as tf\n",
    "from tensorflow.keras.models import Sequential\n",
    "from tensorflow.keras.layers import LSTM, Dense\n",
    "from tensorflow.keras.optimizers import RMSprop\n",
    "from tensorflow.keras.callbacks import ModelCheckpoint\n",
    "from tensorflow.keras.models import load_model"
   ]
  },
  {
   "cell_type": "markdown",
   "metadata": {
    "colab_type": "text",
    "id": "_cYhsn2q1Xnb"
   },
   "source": [
    "[example notebook: link](https://github.com/gakhov/pycon-ua-2018/blob/master/stochastic-models.ipynb)"
   ]
  },
  {
   "cell_type": "markdown",
   "metadata": {
    "colab_type": "text",
    "id": "g872-Wxf1Xnc"
   },
   "source": [
    "# Parameters"
   ]
  },
  {
   "cell_type": "code",
   "execution_count": null,
   "metadata": {
    "colab": {},
    "colab_type": "code",
    "id": "UnYmV6rl1Xnd"
   },
   "outputs": [],
   "source": [
    "alt.renderers.enable(embed_options={'theme': 'vox'})\n",
    "alt.data_transformers.disable_max_rows()\n",
    "plt.style.use('seaborn')\n",
    "plt.rc('figure', figsize=(11.0, 7.0))\n",
    "\n",
    "logs_path = \"./logs/visualize_graph\""
   ]
  },
  {
   "cell_type": "markdown",
   "metadata": {
    "colab_type": "text",
    "id": "Kn5WQHzc1Xn4"
   },
   "source": [
    "# Load Data"
   ]
  },
  {
   "cell_type": "code",
   "execution_count": null,
   "metadata": {
    "colab": {},
    "colab_type": "code",
    "id": "_Nh3-o1I16Tb"
   },
   "outputs": [],
   "source": [
    "if IN_COLAB:\n",
    "    from google.colab import drive\n",
    "    drive.mount('/content/gdrive')\n",
    "    os.chdir(r'/content/gdrive/My Drive/data_sci/colab_datasets/ski/')\n",
    "    mirrored_strategy = tf.distribute.MirroredStrategy()\n",
    "else:\n",
    "    os.chdir(os.path.expanduser(r'~/Google Drive/data_sci/colab_datasets/sidewalk_data/'))\n",
    "!pwd"
   ]
  },
  {
   "cell_type": "code",
   "execution_count": null,
   "metadata": {
    "colab": {},
    "colab_type": "code",
    "id": "ShiWNvPw1Xn6"
   },
   "outputs": [],
   "source": [
    "all_data_path = r'../../data/snow_data_clean.pkl'"
   ]
  },
  {
   "cell_type": "code",
   "execution_count": null,
   "metadata": {
    "colab": {},
    "colab_type": "code",
    "id": "2iEUM05J1XoA"
   },
   "outputs": [],
   "source": [
    "long_series_df = pd.read_pickle(all_data_path).fillna(0)  # TODO: fix fillna func in data cleaning notebook\n",
    "\n",
    "def resample_by_month(df, time_col):\n",
    "    \"\"\"resample df on monthly basis using specified timestamp column\"\"\"\n",
    "    \n",
    "    # handling of time_col\n",
    "    acceptable_time_col = ['timestamp', 'pseudo_ts']\n",
    "    other_time_col = [x for x in acceptable_time_col if x != time_col].pop()\n",
    "    if time_col not in acceptable_time_col:\n",
    "        raise Exception(f'must be in {acceptable_time_col}')\n",
    "    \n",
    "    month = (df\n",
    "             .set_index(f'{time_col}')\n",
    "             .resample('M')\n",
    "             .agg({'base': 'mean', 'snowfall': 'sum', 'station': 'first', \n",
    "                   'region': 'first', 'state': 'first', 'ski_yr': 'first',\n",
    "                   f'{other_time_col}': 'first'})\n",
    "            )\n",
    "    return month"
   ]
  },
  {
   "cell_type": "code",
   "execution_count": null,
   "metadata": {
    "colab": {},
    "colab_type": "code",
    "id": "PrtKFJuM1XoI",
    "outputId": "7c2ab34d-27e4-4f84-8a1b-b28685369521"
   },
   "outputs": [],
   "source": [
    "month_ts_df = resample_by_month(long_series_df, 'timestamp')\n",
    "g = sns.lineplot(data=month_ts_df.reset_index(), x='pseudo_ts', y='base')\n",
    "g.set_title(\"TS on Monthly basis\");"
   ]
  },
  {
   "cell_type": "code",
   "execution_count": null,
   "metadata": {
    "colab": {},
    "colab_type": "code",
    "id": "k7NG5Qkh1XoV",
    "scrolled": false
   },
   "outputs": [],
   "source": [
    "# start analysis with just CO resorts\n",
    "co_base_ts = (month_ts_df\n",
    "              .reset_index()\n",
    "              .query('region==\"Colorado\"')\n",
    "              [['base', 'pseudo_ts', 'station']]\n",
    "              .sort_values(by='pseudo_ts')\n",
    "             )"
   ]
  },
  {
   "cell_type": "code",
   "execution_count": null,
   "metadata": {
    "colab": {},
    "colab_type": "code",
    "id": "qTeK45hn1Xoc"
   },
   "outputs": [],
   "source": []
  },
  {
   "cell_type": "markdown",
   "metadata": {
    "colab_type": "text",
    "id": "hXTm9mUC1Xol"
   },
   "source": [
    "# Plotting Functions\n",
    "* residuals over time\n",
    "* y vs yhat\n",
    "* train & extrapolate\n",
    "\n"
   ]
  },
  {
   "cell_type": "code",
   "execution_count": null,
   "metadata": {
    "colab": {},
    "colab_type": "code",
    "id": "IpVsCYxh4FsB"
   },
   "outputs": [],
   "source": [
    "def error_plotter(history):\n",
    "    loss_train = history.history['train_loss']\n",
    "    loss_val = history.history['val_loss']\n",
    "    plt.plot(epochs, loss_train, 'g', label='Training loss')\n",
    "    plt.plot(epochs, loss_val, 'b', label='validation loss')\n",
    "    plt.title('Training and Validation loss')\n",
    "    plt.xlabel('Epochs')\n",
    "    plt.ylabel('Loss')\n",
    "    plt.legend()\n",
    "    plt.show()"
   ]
  },
  {
   "cell_type": "code",
   "execution_count": null,
   "metadata": {
    "colab": {},
    "colab_type": "code",
    "id": "LKZ8RRVv1Xom"
   },
   "outputs": [],
   "source": [
    "def resid_plotter(residuals=None, y=None):\n",
    "    \"\"\"plot residual errors\"\"\"\n",
    "    fig, (ax1, ax2) = plt.subplots(2, figsize=(10, 10))\n",
    "    residuals.plot(title=\"Residuals over Time\", ax=ax1)\n",
    "    residuals.plot(kind='kde', title=\"Residuals Distribution\", ax=ax2)\n",
    "    plt.show()\n",
    "    print(residuals.describe())"
   ]
  },
  {
   "cell_type": "code",
   "execution_count": null,
   "metadata": {
    "colab": {},
    "colab_type": "code",
    "id": "YYeuEBx-1Xox"
   },
   "outputs": [],
   "source": [
    "def y_and_yhat_plotter(model=None, endog=None, exog=None, query_filter=None, date_between=None):\n",
    "    \"\"\"endog should be df with time series data and pseudo_ts\"\"\"\n",
    "    df = endog.copy()\n",
    "    df.columns = ['y', 'pseudo_ts']\n",
    "    yhat = model.fit().predict(df.values, exog)\n",
    "    df['yhat'] = yhat\n",
    "    if query_filter:\n",
    "        df = df.query(query_filter)\n",
    "    if date_between:\n",
    "        df = df.loc[df.pseudo_ts.between(*date_between)]\n",
    "    df = df.melt(value_vars=['y', 'yhat'], id_vars=['pseudo_ts'])\n",
    "    fig, ax = plt.subplots(figsize=(18, 6))\n",
    "    sns.lineplot(data=df, x='pseudo_ts', y='value', hue='variable')\n",
    "    plt.show();"
   ]
  },
  {
   "cell_type": "markdown",
   "metadata": {
    "colab_type": "text",
    "id": "VoGI33Zl1Xo3"
   },
   "source": [
    "# Timeseries Modeling\n",
    "\n",
    "The evolution of snow base depth over time depends (not 1:1; a foot of powder is only a few inches of packed powder) on new snowfall and melting of old snow. I will start by modeling as a simple timeseries, and then include new snowfall as a predictor variable."
   ]
  },
  {
   "cell_type": "markdown",
   "metadata": {
    "colab_type": "text",
    "id": "dkRmq7LH1Xo5"
   },
   "source": [
    "## Modeling Setup\n",
    "I will use supersetting crossvalidation (walk-forward CV) since this is a time series problem."
   ]
  },
  {
   "cell_type": "markdown",
   "metadata": {
    "colab_type": "text",
    "id": "0Grps6111XpC"
   },
   "source": [
    "# TF LSTM models\n",
    " "
   ]
  },
  {
   "cell_type": "code",
   "execution_count": null,
   "metadata": {
    "colab": {},
    "colab_type": "code",
    "id": "CpE2UtpO1XpD"
   },
   "outputs": [],
   "source": [
    "# scale data\n",
    "scaler = MinMaxScaler(feature_range=(-1, 1))\n",
    "scaler = scaler.fit(X)\n",
    "scaled_X = scaler.transform(X)\n",
    "\n",
    "# invert transform\n",
    "inverted_X = scaler.inverse_transform(scaled_X)\n",
    "\n"
   ]
  },
  {
   "cell_type": "code",
   "execution_count": null,
   "metadata": {
    "colab": {},
    "colab_type": "code",
    "id": "hqOK4Ttb1XpO"
   },
   "outputs": [],
   "source": [
    "X, y = train[:, 0:-1], train[:, -1]\n",
    "X = X.reshape(X.shape[0], 1, X.shape[1])\n",
    "\n",
    "\n",
    "def make_model(neurons, batch_size, x_shape):\n",
    "    model = Sequential()\n",
    "    model.add(LSTM(neurons, batch_input_shape=(batch_size, X.shape[1], X.shape[2]), \n",
    "                   stateful=True))\n",
    "    model.add(Dropout(0.2))\n",
    "    model.add(Dense(1))\n",
    "    model.compile(loss='root_mean_squared_error', optimizer='adam')\n",
    "    return model\n",
    "\n",
    "def fit_lstm(train, batch_size, n_epoch):\n",
    "    for i in range(n_epoch):\n",
    "        history = model.fit(X, y, epochs=1, batch_size=batch_size, verbose=0, \n",
    "                            shuffle=False, callbacks=[])\n",
    "        model.reset_states()\n",
    "    return model\n",
    "\n",
    "lstm_100x1 = make_model(100)\n",
    "\n",
    "plot_model(lstm_100, show_shapes=True, to_file='model.png')\n",
    "\n"
   ]
  },
  {
   "cell_type": "markdown",
   "metadata": {
    "colab_type": "raw",
    "id": "nPu8PJ2o1XpU"
   },
   "source": [
    "Batch Size: 1\n",
    "Epochs: 3000\n",
    "Neurons: 4\n",
    "--------------\n",
    "or 1 neuron"
   ]
  },
  {
   "cell_type": "markdown",
   "metadata": {
    "colab_type": "text",
    "id": "sfN8V1Ms1XpV"
   },
   "source": [
    "# Prophet models\n",
    "GAM timeseries model "
   ]
  },
  {
   "cell_type": "code",
   "execution_count": null,
   "metadata": {
    "colab": {},
    "colab_type": "code",
    "id": "u3LJRXSf1XpW"
   },
   "outputs": [],
   "source": []
  }
 ],
 "metadata": {
  "colab": {
   "name": "TF-snow_ts_analysis.ipynb",
   "provenance": []
  },
  "kernelspec": {
   "display_name": "Python 3",
   "language": "python",
   "name": "python3"
  },
  "language_info": {
   "codemirror_mode": {
    "name": "ipython",
    "version": 3
   },
   "file_extension": ".py",
   "mimetype": "text/x-python",
   "name": "python",
   "nbconvert_exporter": "python",
   "pygments_lexer": "ipython3",
   "version": "3.7.4"
  },
  "varInspector": {
   "cols": {
    "lenName": 16,
    "lenType": 16,
    "lenVar": 40
   },
   "kernels_config": {
    "python": {
     "delete_cmd_postfix": "",
     "delete_cmd_prefix": "del ",
     "library": "var_list.py",
     "varRefreshCmd": "print(var_dic_list())"
    },
    "r": {
     "delete_cmd_postfix": ") ",
     "delete_cmd_prefix": "rm(",
     "library": "var_list.r",
     "varRefreshCmd": "cat(var_dic_list()) "
    }
   },
   "types_to_exclude": [
    "module",
    "function",
    "builtin_function_or_method",
    "instance",
    "_Feature"
   ],
   "window_display": false
  }
 },
 "nbformat": 4,
 "nbformat_minor": 1
}
